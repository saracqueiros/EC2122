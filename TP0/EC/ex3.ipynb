{
 "cells": [
  {
   "cell_type": "markdown",
   "metadata": {},
   "source": [
    "# TPO - Exercício 3 - Grupo 15\n",
    "#### João Esteves - pg46535\n",
    "#### Sara Queirós - pg47661\n",
    "### 3. Compare experimentalmente a eficiência dos dois esquemas de cifra.\n",
    "* Relativamente ao exercício 1, apresentam-se em baixo alguns exemplos:"
   ]
  },
  {
   "cell_type": "markdown",
   "metadata": {},
   "source": [
    "![](img/ex1_1.png)\n",
    "![](img/ex1_2.png)"
   ]
  },
  {
   "cell_type": "markdown",
   "metadata": {},
   "source": [
    "* Em relação ao exercício 2, apresentam-se em baixo alguns exemplos:"
   ]
  },
  {
   "cell_type": "markdown",
   "metadata": {},
   "source": [
    "![](img/ex2_1.png)\n",
    "![](img/ex2.png)"
   ]
  },
  {
   "cell_type": "markdown",
   "metadata": {},
   "source": [
    "## Conclusão\n",
    "Em conclusão, como é possível observar, os tempos medidos aproximam-se bastante. \n",
    "A cifra utilizada no primeiro exercício, AESGCM, realiza cifragem e autenticação de texto. No entanto, a segunda cifra apenas proporciona condifencialidade.\n",
    "\n",
    "Apesar de ambas possuirem performances parecidas, a primeira cifra é mais adequada para sistemas reais devido à confidencialidade, integridade e autenticidade (o que também é proporcionado pela aleatoriedade dos nounces) e também por, à partida, ser capaz de receber mensagens que qualquer tamanho. \n",
    "\n",
    "Já a cifra utilizada no exercício 2 é eficiente por se tratar de uma cifra sequencial. No entanto, limita o tamanho e número das mensagens, sendo por isso um ponto negativo para a sua utilização."
   ]
  }
 ],
 "metadata": {
  "language_info": {
   "name": "python"
  },
  "orig_nbformat": 4
 },
 "nbformat": 4,
 "nbformat_minor": 2
}
