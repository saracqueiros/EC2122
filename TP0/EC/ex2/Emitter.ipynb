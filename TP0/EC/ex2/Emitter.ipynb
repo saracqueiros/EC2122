{
 "cells": [
  {
   "cell_type": "code",
   "execution_count": 5,
   "metadata": {},
   "outputs": [],
   "source": [
    "from cryptography.hazmat.primitives import hashes, hmac\n",
    "from cryptography.hazmat.primitives.asymmetric import dh\n",
    "from cryptography.hazmat.primitives.kdf.hkdf import HKDF\n",
    "import cryptography.exceptions\n",
    "from cryptography.hazmat.primitives.asymmetric import dsa\n",
    "from cryptography.hazmat.primitives.ciphers.aead import AESGCM\n"
   ]
  },
  {
   "cell_type": "code",
   "execution_count": 1,
   "metadata": {},
   "outputs": [],
   "source": [
    "class Emitter:\n",
    "    def __init__(self, password, n):\n",
    "        self.password = password\n",
    "        self.words = None\n",
    "        self.salt = os.urandom(16)\n",
    "        self.PRG(self.get_seed(password), n)    \n",
    "\n",
    "    def get_seed(self, password):\n",
    "        kdf = PBKDF2HMAC(\n",
    "            algorithm=hashes.SHA256(),\n",
    "            length=32,\n",
    "            salt=self.salt,\n",
    "            iterations=390000,)\n",
    "        seed = kdf.derive(bytes(password, 'utf-8'))\n",
    "        return seed\n",
    "    \n",
    "    def PRG(self, seed, n): \n",
    "        #64 bites = 8 blocos de 1 byte(8 bits)\n",
    "        #gerador com limite de 2^n palavras \n",
    "        dig = hashes.Hash(hashes.SHAKE256(8 * pow(2,n)))\n",
    "        dig.update(seed)\n",
    "        rand = dig.finalize()\n",
    "        self.words = rand\n",
    "\n",
    "    def authentication(self, message):\n",
    "        h = hmac.HMAC(self.words, hashes.SHA256())\n",
    "        h.update(message)\n",
    "        return h.finalize()\n",
    "\n",
    "    def encode(self, data):\n",
    "        #fazer o padding do texto \n",
    "        padder = padding.PKCS7(64).padder()\n",
    "        padded = padder.update(data) + padder.finalize()\n",
    "        #verificar se a chave tem tamanho suficiente para cifrar o texto dado como input \n",
    "        if (len(self.words) < len(padded)):\n",
    "            raise Exception(\"O tamanho da chave não é suficiente!\")        \n",
    "        else:\n",
    "            cipher_text = b''\n",
    "            #cifrar com as words geradas pelo PRG\n",
    "            for i in range (0,len(padded),8):\n",
    "                p = padded[i:i+8]\n",
    "                for index, block in enumerate(p):  \n",
    "                    #aplicar as máscaras XOR aos blocos \n",
    "                    cipher_text += bytes([block ^ self.words[i*8:(i+1)*8][index]])\n",
    "            return cipher_text     \n",
    "\n",
    "       \n",
    "    def sendMessage(self, mensagem):\n",
    "        auth = self.authentication(b'This is my signature')\n",
    "        ciphertext = self.encode(mensagem)\n",
    "        print(\"Texto cifrado:\")\n",
    "        print(ciphertext)\n",
    "        return auth + self.salt + ciphertext\n",
    "\n",
    "\n"
   ]
  }
 ],
 "metadata": {
  "interpreter": {
   "hash": "31f2aee4e71d21fbe5cf8b01ff0e069b9275f58929596ceb00d14d90e3e16cd6"
  },
  "kernelspec": {
   "display_name": "Python 3.8.2 64-bit",
   "language": "python",
   "name": "python3"
  },
  "language_info": {
   "codemirror_mode": {
    "name": "ipython",
    "version": 3
   },
   "file_extension": ".py",
   "mimetype": "text/x-python",
   "name": "python",
   "nbconvert_exporter": "python",
   "pygments_lexer": "ipython3",
   "version": "3.8.8"
  },
  "orig_nbformat": 4
 },
 "nbformat": 4,
 "nbformat_minor": 2
}
