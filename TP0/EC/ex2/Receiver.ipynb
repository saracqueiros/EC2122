{
 "cells": [
  {
   "cell_type": "code",
   "execution_count": 2,
   "metadata": {},
   "outputs": [],
   "source": [
    "from cryptography.hazmat.primitives import hashes, hmac\n",
    "from cryptography.hazmat.primitives.kdf.hkdf import HKDF\n",
    "import cryptography.exceptions\n",
    "from cryptography.hazmat.primitives import padding\n"
   ]
  },
  {
   "cell_type": "code",
   "execution_count": 4,
   "metadata": {},
   "outputs": [],
   "source": [
    "class Receiver:\n",
    "    def __init__(self, password, n):\n",
    "        self.password = password\n",
    "        self.shared_key = None\n",
    "        self.words = None\n",
    "        self.salt = None\n",
    "        self.n = n\n",
    "\n",
    "    def verify_Auth(self, message, signature):\n",
    "        h = hmac.HMAC(self.words, hashes.SHA256())\n",
    "        h.update(message)\n",
    "        try: \n",
    "            h.verify(signature)\n",
    "            return True\n",
    "        except cryptography.exceptions.InvalidSignature:\n",
    "            return False\n",
    "\n",
    "    def decode (self, ciphertext):\n",
    "        plaintext = b''\n",
    "        #aplica a mesma função de encode ao ciphertext\n",
    "        for i in range (0,len(ciphertext),8):\n",
    "            p = ciphertext[i:i+8]\n",
    "            for index, block in enumerate(p):   \n",
    "                plaintext += bytes([block ^ self.words[i*8:(i+1)*8][index]])   \n",
    "        #faz o unpadded para remover os caracteres adicionados \n",
    "        unpadder = padding.PKCS7(64).unpadder()\n",
    "        unpadded = unpadder.update(plaintext) + unpadder.finalize()\n",
    "        return unpadded.decode('utf-8')\n",
    "\n",
    "\n",
    "    def get_seed(self, password):\n",
    "        kdf = PBKDF2HMAC(\n",
    "            algorithm=hashes.SHA256(),\n",
    "            length=32,\n",
    "            salt=self.salt,\n",
    "            iterations=390000,)\n",
    "        seed = kdf.derive(bytes(password, 'utf-8'))\n",
    "        return seed\n",
    "\n",
    "\n",
    "    def PRG(self, seed, n):\n",
    "        #64 bites = 8 blocos de 1 byte(8 bits)\n",
    "        #gerador com limite de 2^n paralavras \n",
    "        dig = hashes.Hash(hashes.SHAKE256(8 * pow(2,n)))\n",
    "        dig.update(seed)\n",
    "        rand = dig.finalize()\n",
    "        self.words = rand\n",
    "\n",
    "\n",
    "    def divide_data(self, data):\n",
    "        # auth + self.salt + ciphertext\n",
    "        # 0 a 31 - signature : 32 bytes\n",
    "        # 32 a 47 - salt : 16 bytes\n",
    "        # a partir do 48  - texto cifrado\n",
    "        sign = data[:32]\n",
    "        self.salt = data[32:48]\n",
    "        texto_cifrado = data[48:] \n",
    "        return sign, texto_cifrado\n",
    "\n",
    "\n",
    "    def readMessage(self, data):\n",
    "        #interpreta a mensagem recebida\n",
    "        sign, texto_cifrado = self.divide_data(data)\n",
    "        #Gera as palavras para decifrar a mensagem\n",
    "        self.PRG(self.get_seed(self.password), self.n)    \n",
    "        #verifica a autenticidade da mensagem\n",
    "        if(self.verify_Auth(b'This is my signature', sign)):\n",
    "            plaintext = self.decode(texto_cifrado)\n",
    "            print(\"Texto decifrado:\")\n",
    "            print(plaintext)\n",
    "        else:\n",
    "            raise Exception(\"Autenticidade tem falhas!\")\n",
    "       \n",
    "        "
   ]
  },
  {
   "cell_type": "code",
   "execution_count": null,
   "metadata": {},
   "outputs": [],
   "source": [
    "\n"
   ]
  }
 ],
 "metadata": {
  "interpreter": {
   "hash": "85bb7cccb545b5ee15574fda528c370cf513cdde49bf31f170dac3deac012e67"
  },
  "kernelspec": {
   "display_name": "Python 3.8.8 ('base')",
   "language": "python",
   "name": "python3"
  },
  "language_info": {
   "codemirror_mode": {
    "name": "ipython",
    "version": 3
   },
   "file_extension": ".py",
   "mimetype": "text/x-python",
   "name": "python",
   "nbconvert_exporter": "python",
   "pygments_lexer": "ipython3",
   "version": "3.8.8"
  },
  "orig_nbformat": 4
 },
 "nbformat": 4,
 "nbformat_minor": 2
}
