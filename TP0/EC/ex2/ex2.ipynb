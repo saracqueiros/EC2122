{
 "cells": [
  {
   "cell_type": "markdown",
   "metadata": {},
   "source": [
    "# TP0 - Exercício 2 - Grupo 15\n",
    "#### João Esteves - pg46535\n",
    "#### Sara Queirós - pg47661\n",
    "\n",
    "2. Criar uma cifra com autenticação de meta-dados a partir de um PRG\n",
    "\n",
    "    a. Criar um gerador pseudo-aleatório do tipo XOF (“extened output function”) usando o SHAKE256, para gerar uma sequência de palavras de 64 bits. \n",
    "     1. O gerador deve poder gerar até um limite de 2^n palavras (n é  um parâmetro) armazenados em long integers do Python.\n",
    "     2. A “seed” do gerador funciona como cipher_key e é gerado por um KDF a partir de uma “password” .\n",
    "     3. A autenticação do criptograma e dos dados associados é feita usando o próprio SHAKE256.\n",
    "   \n",
    "    b. Defina os algoritmos de cifrar e decifrar : para cifrar/decifrar uma mensagem com blocos de 64 bits, os “outputs” do gerador são usados como máscaras XOR dos blocos da mensagem. \n",
    "    Essencialmente a cifra básica é uma implementação do  “One Time Pad”.\n"
   ]
  },
  {
   "cell_type": "code",
   "execution_count": null,
   "metadata": {},
   "outputs": [],
   "source": [
    "from cryptography.hazmat.primitives import hashes, hmac\n",
    "from cryptography.hazmat.primitives.kdf.hkdf import HKDF\n",
    "import cryptography.exceptions\n",
    "from cryptography.hazmat.primitives import padding"
   ]
  },
  {
   "cell_type": "markdown",
   "metadata": {},
   "source": [
    "## Criar gerador de palavras \n",
    "Para derivar uma chave, ou seja, a cipher_key, com 32 bytes usamos uma Key Derivation Function (utilizamos a PBKDF2HMAC fornecida pela biblioteca cryptography), com uma password dada como input, utilizando um salt aleatório."
   ]
  },
  {
   "cell_type": "code",
   "execution_count": null,
   "metadata": {},
   "outputs": [],
   "source": [
    "def get_seed(self, password):\n",
    "        #gerar a seed para o PRG usando KDF\n",
    "        kdf = PBKDF2HMAC(\n",
    "            algorithm=hashes.SHA256(),\n",
    "            length=32,\n",
    "            salt=self.salt,\n",
    "            iterations=390000,)\n",
    "        seed = kdf.derive(bytes(password, 'utf-8'))\n",
    "        return seed"
   ]
  },
  {
   "cell_type": "markdown",
   "metadata": {},
   "source": [
    "Obtida a seed, o Pseudo Random Generator (função PRG), utiliza o SHAKE256 para gerar N palavras, para N dado como parâmetro. Uma vez que não existem long integers em python3, utilizamos uma lista de strings para armazenar as palavras geradas. "
   ]
  },
  {
   "cell_type": "code",
   "execution_count": null,
   "metadata": {},
   "outputs": [],
   "source": [
    "def PRG(self, seed, n):\n",
    "        #64 bites = 8 blocos de 1 byte(8 bits)\n",
    "        #gerador com limite de 2^n palavras \n",
    "        dig = hashes.Hash(hashes.SHAKE256(8 * pow(2,n)))\n",
    "        dig.update(seed)\n",
    "        rand = dig.finalize()\n",
    "        self.words = rand"
   ]
  },
  {
   "cell_type": "markdown",
   "metadata": {},
   "source": [
    "## Autenticação \n",
    "* Para verificar a autenticidade da mensagem, tentamos utilizar o SHAKE256. No entanto, como dava erro relacionado com o OpenSSL, utilizamos o SHA256 para o efeito, com as words geradas pelo PRG.\n",
    "* Isto é acompanhado por verificação por parte do Receiver relativamente à autenticidade da mensagem que está a receber.\n"
   ]
  },
  {
   "cell_type": "code",
   "execution_count": null,
   "metadata": {},
   "outputs": [],
   "source": [
    "def authentication(self, message):\n",
    "        h = hmac.HMAC(self.words, hashes.SHA256())\n",
    "        h.update(message)\n",
    "        return h.finalize()"
   ]
  },
  {
   "cell_type": "markdown",
   "metadata": {},
   "source": [
    "## Cifrar a mensagem\n",
    "* Para cifrar a mensagem, como uma implementação do One Time Pad, é necessário fazer o padding do input que se pretende. Também é necessário verificar se o tamanho da mensagem não é superior ao do output do gerador, pois, caso não seja, não consegue cifrar/decifrar o pretendido. \n",
    "* Para além disso, por se tratarem de blocos de 64 bits(8 bytes), foi feita a divisão da mensagem e aplicados os outputs do gerador como máscaras XOR ao blocos da mensagem. Desta forma obtém-se o texto cifrado."
   ]
  },
  {
   "cell_type": "code",
   "execution_count": null,
   "metadata": {},
   "outputs": [],
   "source": [
    "def encode(self, data):\n",
    "        #fazer o padding do texto \n",
    "        padder = padding.PKCS7(64).padder()\n",
    "        padded = padder.update(data) + padder.finalize()\n",
    "        #verificar se a chave tem tamanho suficiente para cifrar o texto dado como input \n",
    "        if (len(self.words) < len(padded)):\n",
    "            raise Exception(\"O tamanho da chave não é suficiente!\")        \n",
    "        else:\n",
    "            cipher_text = b''\n",
    "            #cifrar com as words geradas pelo PRG\n",
    "            for i in range (0,len(padded),8):\n",
    "                p = padded[i:i+8]\n",
    "                for index, block in enumerate(p):   \n",
    "                    #aplicar as máscaras XOR aos blocos\n",
    "                    cipher_text += bytes([block ^ self.words[i*8:(i+1)*8][index]])\n",
    "            return cipher_text     "
   ]
  },
  {
   "cell_type": "markdown",
   "metadata": {},
   "source": [
    "## Decifrar a mensagem\n",
    "Para decifrar a mensagem utilizamos exatamente a mesma estratégia de a cifrar. No final é feito o unpadding com o intuito de remover os caracteres indesejados que foram adicionados no final da mensagem para completar o último bloco."
   ]
  },
  {
   "cell_type": "code",
   "execution_count": null,
   "metadata": {},
   "outputs": [],
   "source": [
    "def decode (self, ciphertext):\n",
    "        plaintext = b''\n",
    "        #aplica a mesma função de encode ao ciphertext\n",
    "        for i in range (0,len(ciphertext),8):\n",
    "            p = ciphertext[i:i+8]\n",
    "            for index, block in enumerate(p):   \n",
    "                #aplicar as máscaras XOR aos blocos\n",
    "                plaintext += bytes([block ^ self.words[i*8:(i+1)*8][index]])   \n",
    "        #faz o unpadded para remover os caracteres adicionados \n",
    "        unpadder = padding.PKCS7(64).unpadder()\n",
    "        unpadded = unpadder.update(plaintext) + unpadder.finalize()\n",
    "        return unpadded.decode('utf-8')"
   ]
  },
  {
   "cell_type": "markdown",
   "metadata": {},
   "source": [
    "Para enviar e receber a mensagem foram utilizadas essencialmente as mesmas funções do exercício 1."
   ]
  },
  {
   "cell_type": "markdown",
   "metadata": {},
   "source": [
    "* Apresenta-se em baixo um exemplo do resultado dado para a mensagem \"Mensagem utilizada para teste\", com n = 10:\n",
    "![](../img/ex2_1.png)\n",
    "\n",
    "\n",
    "\n",
    "* Outro exemplo para \"Segunda mensagem de teste\", com n = 12:\n",
    "![](../img/ex2_2.png)"
   ]
  }
 ],
 "metadata": {
  "language_info": {
   "name": "python"
  },
  "orig_nbformat": 4
 },
 "nbformat": 4,
 "nbformat_minor": 2
}
