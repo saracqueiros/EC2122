{
 "cells": [
  {
   "cell_type": "code",
   "execution_count": 3,
   "metadata": {},
   "outputs": [],
   "source": [
    "from cryptography.hazmat.primitives import hashes, hmac\n",
    "from cryptography.hazmat.primitives.asymmetric import dsa\n",
    "from cryptography.hazmat.primitives.ciphers.aead import AESGCM\n",
    "from cryptography.hazmat.primitives.padding import PKCS7\n",
    "from cryptography.hazmat.primitives.kdf.pbkdf2 import PBKDF2HMAC\n",
    "from cryptography.hazmat.primitives import padding\n",
    "import time\n",
    "import os"
   ]
  },
  {
   "cell_type": "code",
   "execution_count": 5,
   "metadata": {},
   "outputs": [
    {
     "name": "stdout",
     "output_type": "stream",
     "text": [
      "Texto cifrado:\n",
      "b':b\\xf6TX\\\\\\x04\\xcf'\n",
      "Texto decifrado:\n",
      "sara\n",
      "Tempo decorrido:\n",
      "1.0988261489999331\n"
     ]
    }
   ],
   "source": [
    "%run Emitter.ipynb import Emitter\n",
    "%run Receiver.ipynb import Receiver\n",
    "\n",
    "pass_Emit = input(\"Password Emitter:\")\n",
    "pass_Rec = input(\"Password Receiver:\")\n",
    "n = input(\"Introduza um valor para ao número de palavras geradas\")\n",
    "mensagem = input(\"Introduz a mensagem a cifrar:\")\n",
    "# Geramos parametros acordados entre emissor e recetor\n",
    "emitter = Emitter(pass_Emit, int(n))\n",
    "receiver = Receiver(pass_Rec, int(n))\n",
    "\n",
    "start = time.perf_counter()\n",
    "m = emitter.sendMessage(mensagem.encode('utf-8'))\n",
    "receiver.readMessage(m)\n",
    "stop = time.perf_counter()\n",
    "delta_time_1 = stop - start\n",
    "print(\"Tempo decorrido:\")\n",
    "print(delta_time_1)"
   ]
  },
  {
   "cell_type": "code",
   "execution_count": null,
   "metadata": {},
   "outputs": [],
   "source": []
  }
 ],
 "metadata": {
  "interpreter": {
   "hash": "85bb7cccb545b5ee15574fda528c370cf513cdde49bf31f170dac3deac012e67"
  },
  "kernelspec": {
   "display_name": "Python 3.8.8 ('base')",
   "language": "python",
   "name": "python3"
  },
  "language_info": {
   "codemirror_mode": {
    "name": "ipython",
    "version": 3
   },
   "file_extension": ".py",
   "mimetype": "text/x-python",
   "name": "python",
   "nbconvert_exporter": "python",
   "pygments_lexer": "ipython3",
   "version": "3.8.8"
  },
  "orig_nbformat": 4
 },
 "nbformat": 4,
 "nbformat_minor": 2
}
