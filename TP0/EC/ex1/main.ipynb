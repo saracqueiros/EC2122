{
 "cells": [
  {
   "cell_type": "markdown",
   "metadata": {},
   "source": [
    "# Trabalho Prático 0\n",
    "## Exercício 1 \n",
    "\n",
    "1. Criar um comunicação privada assíncrona entre um agente Emitter e um agente Receiver que cubra os seguintes aspectos:\n",
    "    1. Autenticação do criptograma e dos metadados (associated data). Usar uma cifra simétrica  num modo HMAC  que seja seguro contra ataques aos “nounces”.\n",
    "    2. Os “nounces” são gerados por um gerador pseudo aleatório (PRG) construído por um função de hash em modo XOF.\n",
    "    3. O par de chaves $$\\mathtt{cipher\\_key}, \\mathtt{mac\\_key}$$ , para cifra e autenticação, é acordado entre agentes usando o protocolo DH com autenticação dos agentes usando assinaturas DSA.\n"
   ]
  },
  {
   "cell_type": "code",
   "execution_count": 1,
   "metadata": {},
   "outputs": [],
   "source": [
    "from cryptography.hazmat.primitives import hashes, hmac\n",
    "from cryptography.hazmat.primitives.asymmetric import dh\n",
    "from cryptography.hazmat.primitives.kdf.hkdf import HKDF\n",
    "from cryptography.hazmat.primitives.asymmetric import dsa\n",
    "from cryptography.hazmat.primitives.ciphers.aead import AESGCM\n",
    "import time\n",
    "import os "
   ]
  },
  {
   "cell_type": "markdown",
   "metadata": {},
   "source": [
    "Para ser possível efetuar comunicação assíncrona privada, optamos por realizar um simulação sequencial para efeitos de teste.\n",
    "Como forma de tornar o código legível e modular foram criadas as classes auxiliares Emitter e Receiver."
   ]
  },
  {
   "cell_type": "code",
   "execution_count": 4,
   "metadata": {},
   "outputs": [
    {
     "name": "stdout",
     "output_type": "stream",
     "text": [
      "Texto cifrado:\n",
      "b'\\x16y2\\xc35~\\x99E\\x94.\\xc3FKJ]1\\xbcr\\x8a\\x8c\\x9b\\xab\\xc4D\\xa6\\xb7WJ\\xeb\\x04$\\x9d_l\\xd4|N\\x1c4'\n",
      "Texto decifrado: \n",
      "Uma mensagem para teste\n",
      "Tempo decorrido:\n",
      "1.5308523870007775\n"
     ]
    }
   ],
   "source": [
    "%run Emitter.ipynb import Emitter\n",
    "%run Receiver.ipynb import Receiver\n",
    "\n",
    "start = time.perf_counter()\n",
    "\n",
    "# Geramos parametros acordados entre emissor e recetor\n",
    "parameters = dh.generate_parameters(generator=2, key_size=1024)\n",
    "\n",
    "# Iniciamos Emitter e Receiver\n",
    "emitter  = Emitter(parameters)\n",
    "receiver = Receiver(parameters)\n",
    "\n",
    "menSig = b'This is my signature'\n",
    "\n",
    "# Shared Keys\n",
    "emitter.get_derived_key(receiver.public_key)\n",
    "receiver.get_derived_key(emitter.public_key)\n",
    "\n",
    "\n",
    "signature = emitter.authentication(menSig)\n",
    "receiver.verify_Auth(menSig, signature)\n",
    "m = emitter.sendMessage(b'Uma mensagem para teste', menSig)\n",
    "receiver.readMessage(m, menSig)\n",
    "stop = time.perf_counter()\n",
    "delta_time_1 = stop - start\n",
    "print(\"Tempo decorrido:\")\n",
    "print(delta_time_1)\n",
    "\n"
   ]
  }
 ],
 "metadata": {
  "interpreter": {
   "hash": "85bb7cccb545b5ee15574fda528c370cf513cdde49bf31f170dac3deac012e67"
  },
  "kernelspec": {
   "display_name": "Python 3.8.8 ('base')",
   "language": "python",
   "name": "python3"
  },
  "language_info": {
   "codemirror_mode": {
    "name": "ipython",
    "version": 3
   },
   "file_extension": ".py",
   "mimetype": "text/x-python",
   "name": "python",
   "nbconvert_exporter": "python",
   "pygments_lexer": "ipython3",
   "version": "3.8.8"
  },
  "orig_nbformat": 4
 },
 "nbformat": 4,
 "nbformat_minor": 2
}
