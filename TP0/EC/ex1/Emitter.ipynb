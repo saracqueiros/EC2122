{
 "cells": [
  {
   "cell_type": "code",
   "execution_count": 3,
   "metadata": {},
   "outputs": [],
   "source": [
    "from cryptography.hazmat.primitives import hashes, hmac\n",
    "from cryptography.hazmat.primitives.asymmetric import dh\n",
    "from cryptography.hazmat.primitives.kdf.hkdf import HKDF\n",
    "import cryptography.exceptions\n",
    "from cryptography.hazmat.primitives.asymmetric import dsa\n",
    "from cryptography.hazmat.primitives.ciphers.aead import AESGCM"
   ]
  },
  {
   "cell_type": "code",
   "execution_count": 4,
   "metadata": {},
   "outputs": [],
   "source": [
    "class Emitter:\n",
    "    def __init__(self, parameters):\n",
    "        self.private_key = None\n",
    "        self.public_key = None\n",
    "        self.shared_key = None\n",
    "        self.parameters = parameters\n",
    "        self.get_private_key(parameters)\n",
    "        self.get_public_key()\n",
    "\n",
    "\n",
    "    def get_private_key(self, parameters):\n",
    "        self.private_key = parameters.generate_private_key()\n",
    "\n",
    "    def get_public_key(self):\n",
    "        self.public_key = self.private_key.public_key()\n",
    "\n",
    "\n",
    "    #Criar a chave partilhada, gerada através da chaves pública do receiver e privada do emitter\n",
    "    def get_derived_key(self, receiver_public_key):\n",
    "        key_interm = self.private_key.exchange(receiver_public_key)\n",
    "        # Derivar chave\n",
    "        self.shared_key = HKDF(\n",
    "            algorithm=hashes.SHA256(),\n",
    "            length=32,\n",
    "            salt=None,\n",
    "            info=None,\n",
    "        ).derive(key_interm)\n",
    "\n",
    "    \n",
    "    def authentication(self, message):\n",
    "        #Criar mac_key para cifrar a assinatura definida \n",
    "        h = hmac.HMAC(self.shared_key, hashes.SHA256())\n",
    "        h.update(message)\n",
    "        return h.finalize()\n",
    "\n",
    "\n",
    "    def encode(self, data, ad):\n",
    "        #codificar o texto \n",
    "        nonce = os.urandom(16)\n",
    "        aesgcm = AESGCM(self.shared_key)\n",
    "        ad += nonce\n",
    "        #Cifrar com o nounce e metadados usando AESGCM\n",
    "        ciphertext = aesgcm.encrypt(nonce, data, ad)\n",
    "        return nonce, ciphertext\n",
    "    \n",
    "    def sendMessage(self, mensagem, sigMess):\n",
    "        #calculos assinatura\n",
    "        sign = self.authentication(sigMess)\n",
    "        #gerar um valor aleatorio para os metadados\n",
    "        ad = os.urandom(12)\n",
    "        #cifrar o texto e obter o nounce com que foi cifrado.\n",
    "        nonce, ciphertext = self.encode(mensagem, ad)\n",
    "        print(\"Texto cifrado:\")\n",
    "        print(ciphertext)\n",
    "        #assinatura + nonce + metadados + texto cifrado\n",
    "        return sign + nonce + ad + ciphertext\n",
    "\n",
    "\n"
   ]
  }
 ],
 "metadata": {
  "interpreter": {
   "hash": "31f2aee4e71d21fbe5cf8b01ff0e069b9275f58929596ceb00d14d90e3e16cd6"
  },
  "kernelspec": {
   "display_name": "Python 3.8.2 64-bit",
   "language": "python",
   "name": "python3"
  },
  "language_info": {
   "codemirror_mode": {
    "name": "ipython",
    "version": 3
   },
   "file_extension": ".py",
   "mimetype": "text/x-python",
   "name": "python",
   "nbconvert_exporter": "python",
   "pygments_lexer": "ipython3",
   "version": "3.8.8"
  },
  "orig_nbformat": 4
 },
 "nbformat": 4,
 "nbformat_minor": 2
}
