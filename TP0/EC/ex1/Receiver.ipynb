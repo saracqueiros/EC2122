{
 "cells": [
  {
   "cell_type": "code",
   "execution_count": null,
   "metadata": {},
   "outputs": [],
   "source": [
    "from cryptography.hazmat.primitives import hashes, hmac\n",
    "from cryptography.hazmat.primitives.asymmetric import dh\n",
    "from cryptography.hazmat.primitives.kdf.hkdf import HKDF\n",
    "import cryptography.exceptions\n",
    "from cryptography.hazmat.primitives.asymmetric import dsa\n",
    "from cryptography.hazmat.primitives.ciphers.aead import AESGCM"
   ]
  },
  {
   "cell_type": "code",
   "execution_count": null,
   "metadata": {},
   "outputs": [],
   "source": [
    "class Receiver:\n",
    "    def __init__(self, parameters):\n",
    "        self.private_key = None\n",
    "        self.public_key = None\n",
    "        self.shared_key = None\n",
    "        self.parameters = parameters\n",
    "        self.get_private_key(parameters)\n",
    "        self.get_public_key()\n",
    "\n",
    "    def get_private_key(self, parameters):\n",
    "        self.private_key = parameters.generate_private_key()\n",
    "    \n",
    "    def get_public_key(self):\n",
    "        self.public_key = self.private_key.public_key()\n",
    "\n",
    "    def get_derived_key(self, emitter_public_key):\n",
    "        key_int = self.private_key.exchange(emitter_public_key)\n",
    "        # Derivar chave\n",
    "        self.shared_key = HKDF(\n",
    "            algorithm=hashes.SHA256(),\n",
    "            length=32,\n",
    "            salt=None,\n",
    "            info=None,\n",
    "        ).derive(key_int)\n",
    "\n",
    "\n",
    "    def verify_Auth(self, message, signature):\n",
    "        h = hmac.HMAC(self.shared_key, hashes.SHA256())\n",
    "        h.update(message)\n",
    "        try: \n",
    "            h.verify(signature)\n",
    "            return True\n",
    "        except cryptography.exceptions.InvalidSignature:\n",
    "            return False\n",
    "\n",
    "    def decode (self, ciphertext, nonce, aad):\n",
    "        aesgcm = AESGCM(self.shared_key)\n",
    "        try: \n",
    "            plaintext = aesgcm.decrypt(nonce, ciphertext, aad)\n",
    "        except cryptography.exceptions.InvalidTag:\n",
    "            return None\n",
    "        return plaintext.decode('utf-8')\n",
    "    \n",
    "\n",
    "    def divide_data(self, data):\n",
    "        # sign + nonce + ad + ciphertext\n",
    "        # 0 a 31 - signature : 32 bytes\n",
    "        # 32 a 47 - nonce : 16 bytes\n",
    "        # 48 a 59 - ad para derivar\n",
    "        # a partir do 60 - texto cifrado\n",
    "        sign = data[:32]\n",
    "        nonce = data[32:48]\n",
    "        ad = data[48:60]\n",
    "        texto_cifrado = data[60:] \n",
    "        return sign, nonce, ad, texto_cifrado\n",
    "\n",
    "\n",
    "    #função que lê a mensagem \n",
    "    def readMessage(self, data, menSig):\n",
    "        sign, nonce, ad, texto_cifrado = self.divide_data(data)\n",
    "        #verifica se o autor da mensagem é o esperado\n",
    "        if(self.verify_Auth(menSig, sign)):\n",
    "            aad = ad + nonce\n",
    "            #decifra o texto \n",
    "            plaintext = self.decode(texto_cifrado, nonce, aad)\n",
    "            print(\"Texto decifrado: \")\n",
    "            print(plaintext)\n",
    "        else:\n",
    "            raise Exception(\"Autenticidade tem falhas!\")"
   ]
  },
  {
   "cell_type": "code",
   "execution_count": null,
   "metadata": {},
   "outputs": [],
   "source": [
    "\n"
   ]
  }
 ],
 "metadata": {
  "interpreter": {
   "hash": "85bb7cccb545b5ee15574fda528c370cf513cdde49bf31f170dac3deac012e67"
  },
  "kernelspec": {
   "display_name": "Python 3.8.8 ('base')",
   "language": "python",
   "name": "python3"
  },
  "language_info": {
   "codemirror_mode": {
    "name": "ipython",
    "version": 3
   },
   "file_extension": ".py",
   "mimetype": "text/x-python",
   "name": "python",
   "nbconvert_exporter": "python",
   "pygments_lexer": "ipython3",
   "version": "3.8.8"
  },
  "orig_nbformat": 4
 },
 "nbformat": 4,
 "nbformat_minor": 2
}
