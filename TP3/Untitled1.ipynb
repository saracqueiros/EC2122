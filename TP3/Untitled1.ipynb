{
 "cells": [
  {
   "cell_type": "code",
   "execution_count": 85,
   "metadata": {},
   "outputs": [],
   "source": [
    "from os import urandom"
   ]
  },
  {
   "cell_type": "code",
   "execution_count": 117,
   "metadata": {},
   "outputs": [],
   "source": [
    "class Rainbow():\n",
    "    \n",
    "    F = 0  #Grupo finíto com p elementos\n",
    "    p = 0\n",
    "    v1 = 0\n",
    "    o1 = 0\n",
    "    o2 = 0\n",
    "    \n",
    "    def __init__(self):\n",
    "        \n",
    "        \n",
    "        return\n",
    "    \n",
    "    def set_parameters(self, p, v1, o1, o2):\n",
    "        \n",
    "        self.p = p\n",
    "        self.F = GF(p)\n",
    "        self.v1 = v1\n",
    "        self.o1 = o1\n",
    "        self.o2 = o2\n",
    "        \n",
    "        return\n",
    "    \n",
    "    def Rainbowmap(self):\n",
    "        \n",
    "        return\n",
    "    \n",
    "    def AffMap(self, matrix, ring):\n",
    "        #base_ring.<x> = PolynomialRing(ring);\n",
    "        #while not base_ring.is_finite():\n",
    "        #    base_ring.<x> = PolynomialRing(base_ring);\n",
    "     \n",
    "\n",
    "        return [ ring.i ^matrix + Random(matrix) for i in range(ring) ];\n",
    "        #G = AffineGroup(matrix, value)\n",
    "        return G\n",
    "    \n",
    "    def rainbowKeyGen(self):\n",
    "        \n",
    "        m = self.o1 + self.o2\n",
    "        n = m + self.v1 \n",
    "        #print(\"Teste m\", m)\n",
    "        #print(\"Teste n\", n)\n",
    "\n",
    "        #Calcular matrix invertível com valores em F\n",
    "        Ms = matrix.random(self.F, m, m)    \n",
    "        \n",
    "        while Ms.is_invertible() == false:\n",
    "            Ms = matrix.random(self.F, m, m)\n",
    "        print(\"Jºa e invertivel\")\n",
    "        Cs = GF(m)\n",
    "        S = self.AffMap(Ms, Cs)  \n",
    "        #print(S)\n",
    "        #InvS = Ms.inverse_of_unit()\n",
    "        \n",
    "        \n",
    "        #Calcular matrix invertível com valores em F\n",
    "        #Mt = matrix.random(self.F, n, n)    \n",
    "        #print(Ms)\n",
    "        #while Mt.is_invertible() == false:\n",
    "            #Mt = matrix.random(self.F, n, n)     \n",
    "            \n",
    "        #Ct = GF(n)\n",
    "        #T = self.Aff(Mt, Ct)  \n",
    "        #print(T)\n",
    "        \n",
    "        #InvT = Mt.inverse_of_unit()\n",
    "        \n",
    "        \n",
    "        #Rainbow Map\n",
    "        #rainbow_map = self.Rainbowmap()\n",
    "        \n",
    "        \n",
    "        return"
   ]
  },
  {
   "cell_type": "code",
   "execution_count": 118,
   "metadata": {},
   "outputs": [],
   "source": [
    "def rainbow():\n",
    "    #I: F=GF(16), (v1, o1, o2) = (36, 32, 32) for the NIST \n",
    "    #security categories I and II\n",
    "    p = 16\n",
    "    #valores para categorias I e II\n",
    "    v1 = 36\n",
    "    o1 = 32\n",
    "    o2 = 32\n",
    "    \n",
    "    rainbow = Rainbow()\n",
    "    \n",
    "    rainbow.set_parameters(p, v1, o1, o2)\n",
    "    rainbow.rainbowKeyGen()\n",
    "    \n",
    "    return"
   ]
  },
  {
   "cell_type": "code",
   "execution_count": 119,
   "metadata": {},
   "outputs": [
    {
     "name": "stdout",
     "output_type": "stream",
     "text": [
      "Jºa e invertivel\n"
     ]
    },
    {
     "ename": "TypeError",
     "evalue": "'FiniteField_givaro_with_category' object cannot be interpreted as an integer",
     "output_type": "error",
     "traceback": [
      "\u001b[0;31m---------------------------------------------------------------------------\u001b[0m",
      "\u001b[0;31mTypeError\u001b[0m                                 Traceback (most recent call last)",
      "\u001b[0;32m/var/folders/x6/cb0cyk_57nn6jjhzw953f9980000gn/T/ipykernel_9833/1154478981.py\u001b[0m in \u001b[0;36m<module>\u001b[0;34m\u001b[0m\n\u001b[0;32m----> 1\u001b[0;31m \u001b[0mrainbow\u001b[0m\u001b[0;34m(\u001b[0m\u001b[0;34m)\u001b[0m\u001b[0;34m\u001b[0m\u001b[0;34m\u001b[0m\u001b[0m\n\u001b[0m",
      "\u001b[0;32m/var/folders/x6/cb0cyk_57nn6jjhzw953f9980000gn/T/ipykernel_9833/637495651.py\u001b[0m in \u001b[0;36mrainbow\u001b[0;34m()\u001b[0m\n\u001b[1;32m     11\u001b[0m \u001b[0;34m\u001b[0m\u001b[0m\n\u001b[1;32m     12\u001b[0m     \u001b[0mrainbow\u001b[0m\u001b[0;34m.\u001b[0m\u001b[0mset_parameters\u001b[0m\u001b[0;34m(\u001b[0m\u001b[0mp\u001b[0m\u001b[0;34m,\u001b[0m \u001b[0mv1\u001b[0m\u001b[0;34m,\u001b[0m \u001b[0mo1\u001b[0m\u001b[0;34m,\u001b[0m \u001b[0mo2\u001b[0m\u001b[0;34m)\u001b[0m\u001b[0;34m\u001b[0m\u001b[0;34m\u001b[0m\u001b[0m\n\u001b[0;32m---> 13\u001b[0;31m     \u001b[0mrainbow\u001b[0m\u001b[0;34m.\u001b[0m\u001b[0mrainbowKeyGen\u001b[0m\u001b[0;34m(\u001b[0m\u001b[0;34m)\u001b[0m\u001b[0;34m\u001b[0m\u001b[0;34m\u001b[0m\u001b[0m\n\u001b[0m\u001b[1;32m     14\u001b[0m \u001b[0;34m\u001b[0m\u001b[0m\n\u001b[1;32m     15\u001b[0m     \u001b[0;32mreturn\u001b[0m\u001b[0;34m\u001b[0m\u001b[0;34m\u001b[0m\u001b[0m\n",
      "\u001b[0;32m/var/folders/x6/cb0cyk_57nn6jjhzw953f9980000gn/T/ipykernel_9833/1425526970.py\u001b[0m in \u001b[0;36mrainbowKeyGen\u001b[0;34m(self)\u001b[0m\n\u001b[1;32m     50\u001b[0m         \u001b[0mprint\u001b[0m\u001b[0;34m(\u001b[0m\u001b[0;34m\"Jºa e invertivel\"\u001b[0m\u001b[0;34m)\u001b[0m\u001b[0;34m\u001b[0m\u001b[0;34m\u001b[0m\u001b[0m\n\u001b[1;32m     51\u001b[0m         \u001b[0mCs\u001b[0m \u001b[0;34m=\u001b[0m \u001b[0mGF\u001b[0m\u001b[0;34m(\u001b[0m\u001b[0mm\u001b[0m\u001b[0;34m)\u001b[0m\u001b[0;34m\u001b[0m\u001b[0;34m\u001b[0m\u001b[0m\n\u001b[0;32m---> 52\u001b[0;31m         \u001b[0mS\u001b[0m \u001b[0;34m=\u001b[0m \u001b[0mself\u001b[0m\u001b[0;34m.\u001b[0m\u001b[0mAffMap\u001b[0m\u001b[0;34m(\u001b[0m\u001b[0mMs\u001b[0m\u001b[0;34m,\u001b[0m \u001b[0mCs\u001b[0m\u001b[0;34m)\u001b[0m\u001b[0;34m\u001b[0m\u001b[0;34m\u001b[0m\u001b[0m\n\u001b[0m\u001b[1;32m     53\u001b[0m         \u001b[0;31m#print(S)\u001b[0m\u001b[0;34m\u001b[0m\u001b[0;34m\u001b[0m\u001b[0m\n\u001b[1;32m     54\u001b[0m         \u001b[0;31m#InvS = Ms.inverse_of_unit()\u001b[0m\u001b[0;34m\u001b[0m\u001b[0;34m\u001b[0m\u001b[0m\n",
      "\u001b[0;32m/var/folders/x6/cb0cyk_57nn6jjhzw953f9980000gn/T/ipykernel_9833/1425526970.py\u001b[0m in \u001b[0;36mAffMap\u001b[0;34m(self, matrix, ring)\u001b[0m\n\u001b[1;32m     32\u001b[0m \u001b[0;34m\u001b[0m\u001b[0m\n\u001b[1;32m     33\u001b[0m \u001b[0;34m\u001b[0m\u001b[0m\n\u001b[0;32m---> 34\u001b[0;31m         \u001b[0;32mreturn\u001b[0m \u001b[0;34m[\u001b[0m \u001b[0mring\u001b[0m\u001b[0;34m.\u001b[0m\u001b[0mi\u001b[0m \u001b[0;34m**\u001b[0m\u001b[0mmatrix\u001b[0m \u001b[0;34m+\u001b[0m \u001b[0mRandom\u001b[0m\u001b[0;34m(\u001b[0m\u001b[0mmatrix\u001b[0m\u001b[0;34m)\u001b[0m \u001b[0;32mfor\u001b[0m \u001b[0mi\u001b[0m \u001b[0;32min\u001b[0m \u001b[0mrange\u001b[0m\u001b[0;34m(\u001b[0m\u001b[0mring\u001b[0m\u001b[0;34m)\u001b[0m \u001b[0;34m]\u001b[0m\u001b[0;34m;\u001b[0m\u001b[0;34m\u001b[0m\u001b[0;34m\u001b[0m\u001b[0m\n\u001b[0m\u001b[1;32m     35\u001b[0m         \u001b[0;31m#G = AffineGroup(matrix, value)\u001b[0m\u001b[0;34m\u001b[0m\u001b[0;34m\u001b[0m\u001b[0m\n\u001b[1;32m     36\u001b[0m         \u001b[0;32mreturn\u001b[0m \u001b[0mG\u001b[0m\u001b[0;34m\u001b[0m\u001b[0;34m\u001b[0m\u001b[0m\n",
      "\u001b[0;31mTypeError\u001b[0m: 'FiniteField_givaro_with_category' object cannot be interpreted as an integer"
     ]
    }
   ],
   "source": [
    "rainbow()"
   ]
  },
  {
   "cell_type": "code",
   "execution_count": 113,
   "metadata": {},
   "outputs": [],
   "source": [
    "#TO DO\n",
    "\n",
    "# O que a função Aff vai retornar??????''"
   ]
  },
  {
   "cell_type": "code",
   "execution_count": null,
   "metadata": {},
   "outputs": [],
   "source": []
  }
 ],
 "metadata": {
  "kernelspec": {
   "display_name": "SageMath 9.5",
   "language": "sage",
   "name": "sagemath-9.5"
  },
  "language_info": {
   "codemirror_mode": {
    "name": "ipython",
    "version": 3
   },
   "file_extension": ".py",
   "mimetype": "text/x-python",
   "name": "python",
   "nbconvert_exporter": "python",
   "pygments_lexer": "ipython3",
   "version": "3.9.9"
  }
 },
 "nbformat": 4,
 "nbformat_minor": 4
}
