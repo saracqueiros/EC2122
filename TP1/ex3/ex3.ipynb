{
 "cells": [
  {
   "cell_type": "code",
   "execution_count": 5,
   "metadata": {},
   "outputs": [],
   "source": [
    "import os\n",
    "import hashlib\n",
    "\n",
    "def H(m):\n",
    "  return hashlib.sha512(m).digest()\n",
    "\n",
    "def bit(h,i):\n",
    "  return ((h[int(i/8)]) >> (i%8)) & 1  \n"
   ]
  },
  {
   "cell_type": "code",
   "execution_count": 6,
   "metadata": {},
   "outputs": [],
   "source": [
    "def ed2ec(x,y):      ## mapeia Ed --> EC\n",
    "        if (x,y) == (0,1):\n",
    "            return EC(0)\n",
    "        z = (1+y)/(1-y) ; w = z/x\n",
    "        alfa = constants['alfa']; s = constants['s']\n",
    "        return EC(z/s + alfa , w/s)    "
   ]
  },
  {
   "cell_type": "code",
   "execution_count": 7,
   "metadata": {},
   "outputs": [
    {
     "name": "stdout",
     "output_type": "stream",
     "text": [
      "b'\\xe2\\xac\\xa6a*\\xbb\\x90\\xb4*\\xc5\\xb5\\x84\\xdc#\\xfd0P\\xd4\\xbd\\x96G|\\xbd\\xcb\\xa22\\xad\\xc2\\xfdq;\\x86\\xa47\\xd2\\x11\\x9cA\\x1d\\xbe\\xbc\\xd06\\xc4/\\x16R]\\xee\\x13\\xf0\\xf6I\\x92\\xfdL\\xaf\\x19s\\xb8\\x16\\x8aP\\xf8'\n",
      "31766930116356100008990579025743605901507227478606331797269461506259891432672\n",
      "priv b'\\xe2\\xac\\xa6a*\\xbb\\x90\\xb4*\\xc5\\xb5\\x84\\xdc#\\xfd0P\\xd4\\xbd\\x96G|\\xbd\\xcb\\xa22\\xad\\xc2\\xfdq;\\x86\\xa47\\xd2\\x11\\x9cA\\x1d\\xbe\\xbc\\xd06\\xc4/\\x16R]\\xee\\x13\\xf0\\xf6I\\x92\\xfdL\\xaf\\x19s\\xb8\\x16\\x8aP\\xf8'\n",
      "pub  (41869552563032150030695669190918650636395463512727779509178142611140869479628 : 16296294261674149446649454366875368060734168531649286932797009265041733971422 : 1)\n"
     ]
    }
   ],
   "source": [
    "b= 256\n",
    "\n",
    "p = 2^255-19\n",
    "K = GF(p)\n",
    "\n",
    "a = K(-1)\n",
    "d = -K(121665)/K(121666)\n",
    "\n",
    "ed25519 = {\n",
    "'b'  : 256,\n",
    "'Px' : K(15112221349535400772501151409588531511454012693041857206046113283949847762202),\n",
    "'Py' : K(46316835694926478169428394003475163141307993866256225615783033603165251855960),\n",
    "'L'  : ZZ(2^252 + 27742317777372353535851937790883648493), ## ordem do subgrupo primo\n",
    "'n'  : 254,\n",
    "'h'  : 8\n",
    "}\n",
    "\n",
    "assert a != d and is_prime(p) and p > 3\n",
    "\n",
    "A =  2*(a + d)/(a - d)\n",
    "B =  4/(a - d)\n",
    "\n",
    "alfa = A/(3*B) ; s = B\n",
    "\n",
    "a4 =  s^(-2) - 3*alfa^2\n",
    "a6 =  -alfa^3 - a4*alfa\n",
    "\n",
    "\n",
    "constants = {'a': a , 'd': d , 'A':A , 'B':B , 'alfa':alfa , 's':s , 'a4':a4 , 'a6':a6 }\n",
    "EC = EllipticCurve(K,[a4,a6]) \n",
    "\n",
    "\n",
    "L = ed25519['L']\n",
    "P = ed2ec(ed25519['Px'],ed25519['Py'])\n",
    "\n",
    "\n",
    "priv = H(os.urandom(32))\n",
    "print(priv)\n",
    "a1 = 2**(b-2) + sum(2**i * bit(priv,i) for i in range(3,b-2))\n",
    "print(a1)\n",
    "\n",
    "pub = a1 * P\n",
    "\n",
    "print('priv',priv)\n",
    "print('pub ',pub)"
   ]
  }
 ],
 "metadata": {
  "interpreter": {
   "hash": "bad17c8f62928919b2ee80ef1d27700cc026ec4e6245b72222a08a1a380e4e1d"
  },
  "kernelspec": {
   "display_name": "SageMath 9.5",
   "language": "sage",
   "name": "SageMath-9.5"
  },
  "language_info": {
   "codemirror_mode": {
    "name": "ipython",
    "version": 3
   },
   "file_extension": ".py",
   "mimetype": "text/x-python",
   "name": "sage",
   "nbconvert_exporter": "python",
   "pygments_lexer": "ipython3",
   "version": "3.9.9"
  },
  "orig_nbformat": 4
 },
 "nbformat": 4,
 "nbformat_minor": 2
}
