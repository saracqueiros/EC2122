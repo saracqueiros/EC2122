{
 "cells": [
  {
   "cell_type": "markdown",
   "metadata": {},
   "source": [
    "3. Use o Sagemath para\n",
    "    1. Construir uma classe Python que implemente o  EdCDSA a partir do “standard” FIPS186-5\n",
    "        1. A implementação deve conter funções para assinar digitalmente e verificar a assinatura.\n",
    "        2. A implementação da classe deve usar  uma das “Twisted Edwards Curves” definidas no standard e escolhida  na iniciação da classe: a curva  “edwards25519” ou “edwards448”."
   ]
  },
  {
   "cell_type": "code",
   "execution_count": 7,
   "metadata": {},
   "outputs": [],
   "source": [
    "import os\n",
    "import hashlib "
   ]
  },
  {
   "cell_type": "markdown",
   "metadata": {},
   "source": [
    "Para Ed25519:\n",
    "\n",
    "*Encoding :\n",
    "Por ser little endian , primeiro codifica-se a string de 32 octetos da coordenada y. O bit mais significante do octeto final é sempre 0.\n",
    "Para forma o ponto de encoding , copia-se o bit menos significativo de x para o mais significativo no ultimo octeto \n",
    "\n",
    "\n",
    "## Geração de pares de chaves\n",
    "chaves publicas -> b bits exatamente\n",
    "\n",
    "\n",
    "assinaturas -> 2b bits exatamente\n",
    "\n",
    "\n",
    "b é múltiplo de 8 \n",
    "\n",
    "\n",
    "b = 256 para este Ed, logo a  chave privada tem 32 octetos\n",
    "128 bits de segurança \n"
   ]
  },
  {
   "cell_type": "code",
   "execution_count": 8,
   "metadata": {},
   "outputs": [],
   "source": [
    "class EdDSA():\n",
    "    def __init__(self):\n",
    "        #ponto base de ordem prima na curva \n",
    "        self.G = None\n",
    "        self.Px = None\n",
    "        self.Py = None\n",
    "        #ordem do ponto g - maior sub grupo de ordem prima da curva\n",
    "        self.n = 0\n",
    "        #Cofator do n\n",
    "        self.h = 0\n",
    "        #chave privada\n",
    "        self.chave_privada = None\n",
    "        #hashed private key\n",
    "        self.Hd = None\n",
    "        #chave pública\n",
    "        self.Q = None\n",
    "        self.b = None\n",
    "        #Indicador da curva - 3:Ed25519 e 2:Ed448\n",
    "        self.c = 3\n",
    "        self.requested_security_strength = 0\n",
    "        #ordem do subgrupo primo\n",
    "        self.L = None\n",
    "        \n",
    "\n",
    "        #H é uma função usada durante a derivação\n",
    "        #SHA512:Ed25519 ou SHAKE256:Ed448\n",
    "\n",
    "    def curva25519(self):\n",
    "        self.b = 256\n",
    "        self.requested_security_strength = 128\n",
    "        K = GF(2^255-19)\n",
    "        self.Px = K(15112221349535400772501151409588531511454012693041857206046113283949847762202)\n",
    "        self.Py = K(46316835694926478169428394003475163141307993866256225615783033603165251855960)\n",
    "        self.L = ZZ(2^252 + 27742317777372353535851937790883648493)\n",
    "        self.n = 254\n",
    "        self.h = 8\n",
    "\n",
    "        self.chave_privada = os.urandom(self.b/8)\n",
    "        hashed = self.H(self.chave_privada)\n",
    "        print(\"Chave privada hashed\", hashed)\n",
    "        hdigest1 = \n",
    "\n",
    "    def H(self, pk):\n",
    "        return hashlib.sha512(pk).digest()\n"
   ]
  },
  {
   "cell_type": "code",
   "execution_count": 9,
   "metadata": {},
   "outputs": [
    {
     "name": "stdout",
     "output_type": "stream",
     "text": [
      "b'\\xf2\\x86\\x92\\x17\\x1b\\xf0\\xc1^\\xb59\\xbf\\xc9\\x89\\xf7\\x00?\\xfeBifua\\x83~\\x02v\\x1d\\x94\\xe6_\\x07\\xf2\\xa07\\xf47\\xa2\\x1c\\xe2l\\x16V\\xd24gyV\\xfb\\xc5JV\\xa0^\\x15\\xbap\\xbc=\\x05J*\\xdd\\xd6L'\n"
     ]
    }
   ],
   "source": [
    "em = EdDSA()\n",
    "em.curva25519()"
   ]
  }
 ],
 "metadata": {
  "kernelspec": {
   "display_name": "SageMath 9.5",
   "language": "sage",
   "name": "SageMath-9.5"
  },
  "language_info": {
   "codemirror_mode": {
    "name": "ipython",
    "version": 3
   },
   "file_extension": ".py",
   "mimetype": "text/x-python",
   "name": "python",
   "nbconvert_exporter": "python",
   "pygments_lexer": "ipython3",
   "version": "3.9.9"
  },
  "orig_nbformat": 4
 },
 "nbformat": 4,
 "nbformat_minor": 2
}
