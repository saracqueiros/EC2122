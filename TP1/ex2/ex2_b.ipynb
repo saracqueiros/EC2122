{
 "cells": [
  {
   "cell_type": "code",
   "execution_count": 1,
   "metadata": {},
   "outputs": [
    {
     "ename": "ModuleNotFoundError",
     "evalue": "No module named 'cryptography'",
     "output_type": "error",
     "traceback": [
      "\u001b[0;31m---------------------------------------------------------------------------\u001b[0m",
      "\u001b[0;31mModuleNotFoundError\u001b[0m                       Traceback (most recent call last)",
      "\u001b[0;32m/var/folders/x6/cb0cyk_57nn6jjhzw953f9980000gn/T/ipykernel_1234/3550343250.py\u001b[0m in \u001b[0;36m<module>\u001b[0;34m\u001b[0m\n\u001b[1;32m      1\u001b[0m \u001b[0;32mimport\u001b[0m \u001b[0mos\u001b[0m\u001b[0;34m\u001b[0m\u001b[0;34m\u001b[0m\u001b[0m\n\u001b[0;32m----> 2\u001b[0;31m \u001b[0;32mfrom\u001b[0m \u001b[0mcryptography\u001b[0m\u001b[0;34m.\u001b[0m\u001b[0mhazmat\u001b[0m\u001b[0;34m.\u001b[0m\u001b[0mprimitives\u001b[0m \u001b[0;32mimport\u001b[0m \u001b[0mhashes\u001b[0m\u001b[0;34m\u001b[0m\u001b[0;34m\u001b[0m\u001b[0m\n\u001b[0m\u001b[1;32m      3\u001b[0m \u001b[0;32mfrom\u001b[0m \u001b[0mcryptography\u001b[0m\u001b[0;34m.\u001b[0m\u001b[0mhazmat\u001b[0m\u001b[0;34m.\u001b[0m\u001b[0mprimitives\u001b[0m\u001b[0;34m.\u001b[0m\u001b[0mkdf\u001b[0m\u001b[0;34m.\u001b[0m\u001b[0mhkdf\u001b[0m \u001b[0;32mimport\u001b[0m \u001b[0mHKDF\u001b[0m\u001b[0;34m\u001b[0m\u001b[0;34m\u001b[0m\u001b[0m\n",
      "\u001b[0;31mModuleNotFoundError\u001b[0m: No module named 'cryptography'"
     ]
    }
   ],
   "source": [
    "import os\n",
    "from cryptography.hazmat.primitives import hashes\n",
    "from cryptography.hazmat.primitives.kdf.hkdf import HKDF"
   ]
  },
  {
   "cell_type": "code",
   "execution_count": 167,
   "metadata": {},
   "outputs": [],
   "source": [
    "class KEM_RSA:\n",
    "    def __init__(self, salt):\n",
    "        self.private_key = None\n",
    "        self.public_key  = None\n",
    "        self.salt = salt\n",
    "\n",
    "    \n",
    "    # Metodos Privados\n",
    "    def __encrypt(self, message, peer_public_key):\n",
    "        n, e = peer_public_key\n",
    "        # message ^ e % n\n",
    "        return power_mod(message, e, n)\n",
    "\n",
    "    def __decrypt(self, cipher_message):\n",
    "        n, d = self.private_key\n",
    "        # cipher_message ^ d % n\n",
    "        return power_mod(cipher_message, d, n)\n",
    "\n",
    "\n",
    "    # Metodos publicos\n",
    "    def generate_keys(self, tam):\n",
    "        # Dois primos q e p (tam deve ser no minimo 1024)\n",
    "        q = random_prime(2 ^ (tam / 2) - 1, true, 2 ^ (tam / 2 - 1))\n",
    "        p = random_prime(2 ^ (tam / 2) - 1, true, 2 ^ (tam / 2 - 1))\n",
    "        \n",
    "        # n é o produto de q e p\n",
    "        n = p * q\n",
    "        \n",
    "        # Função do totiente de euler\n",
    "        phi = (p - 1) * (q - 1)\n",
    "        \n",
    "        # Escolher um inteiro e tal que 1 < e < phi\n",
    "        # e e phi têm de ser relativamente primos entre si\n",
    "        # Para isso verificamos o máximo divisor comum entre os dois\n",
    "        e = ZZ.random_element(phi)\n",
    "        while gcd(e, phi) != 1:\n",
    "            e = ZZ.random_element(phi)\n",
    "\n",
    "        # Escolher d tal que d seja o inverso multiplicativo de e\n",
    "        d = inverse_mod(e, phi)\n",
    "\n",
    "        # Chaves\n",
    "        self.private_key = (n, d)\n",
    "        self.public_key  = (n, e)\n",
    "\n",
    "    def encapsulation(self, peer_public_key, my_m):\n",
    "        n, e = peer_public_key\n",
    "\n",
    "        if (my_m == 0):\n",
    "            # Encontrar m tal que 1 < m < n e depois encriptar\n",
    "            m = ZZ.random_element(n)\n",
    "        else:\n",
    "            m = my_m\n",
    "        m_encrypted = self.__encrypt(m, peer_public_key)\n",
    "\n",
    "        # Obter chave\n",
    "        m_in_bytes = int.to_bytes(int(m), int(m).bit_length(), \"big\")\n",
    "        symetric_key = HKDF(\n",
    "            algorithm=hashes.SHA256(),\n",
    "            length=32,\n",
    "            salt=self.salt,\n",
    "            info=None,\n",
    "        ).derive(m_in_bytes)\n",
    "\n",
    "        # Podemos mandar sem ser em bytes?        \n",
    "        return symetric_key, m_encrypted\n",
    "\n",
    "    def decapsulation(self, m_encrypted):\n",
    "        m = self.__decrypt(m_encrypted)\n",
    "        m_in_bytes = int.to_bytes(int(m), int(m).bit_length(), \"big\")\n",
    "        symetric_key = HKDF(\n",
    "            algorithm=hashes.SHA256(),\n",
    "            length=32,\n",
    "            salt=self.salt,\n",
    "            info=None,\n",
    "        ).derive(m_in_bytes)\n",
    "\n",
    "        return symetric_key"
   ]
  },
  {
   "cell_type": "markdown",
   "metadata": {},
   "source": [
    "### Alínea (a)"
   ]
  },
  {
   "cell_type": "code",
   "execution_count": 168,
   "metadata": {},
   "outputs": [
    {
     "name": "stdout",
     "output_type": "stream",
     "text": [
      "Chave do lado do bob:    b'\\xe1]\\xe6\\xb0\\x06}\\xe2\\x9e\\xee\\x99\\xb4\\xf0\\x00\\xf4\\x8bW\\xcd\\xde\\xa2\\xd2\\x81u\\x83\"\\x9eE>\\x92\\xde\\xb8n\\x9e'\n",
      "Chave do lado da alice:  b'\\xe1]\\xe6\\xb0\\x06}\\xe2\\x9e\\xee\\x99\\xb4\\xf0\\x00\\xf4\\x8bW\\xcd\\xde\\xa2\\xd2\\x81u\\x83\"\\x9eE>\\x92\\xde\\xb8n\\x9e'\n"
     ]
    }
   ],
   "source": [
    "salt = os.urandom(12)\n",
    "\n",
    "bob_RSA   = KEM_RSA(salt)\n",
    "alice_RSA = KEM_RSA(salt)\n",
    "\n",
    "# Gerar chaves\n",
    "bob_RSA.generate_keys(1024)\n",
    "alice_RSA.generate_keys(1024)\n",
    "\n",
    "\n",
    "symetric_key_bob, m_encrypted = bob_RSA.encapsulation(alice_RSA.public_key, 0)\n",
    "symetric_key_alice = alice_RSA.decapsulation(m_encrypted)\n",
    "\n",
    "print(\"Chave do lado do bob:   \", symetric_key_bob)\n",
    "print(\"Chave do lado da alice: \", symetric_key_alice)"
   ]
  },
  {
   "cell_type": "markdown",
   "metadata": {},
   "source": [
    "### Alínea (b)"
   ]
  },
  {
   "cell_type": "code",
   "execution_count": 173,
   "metadata": {},
   "outputs": [],
   "source": [
    "class PKE:\n",
    "    def __init__(self, kem):\n",
    "        self.kem = kem\n",
    "    \n",
    "\n",
    "    # Metodos Privados\n",
    "    def __hash_functio_h(self, message):\n",
    "        digest = hashes.Hash(hashes.SHA256())\n",
    "        digest.update(message)\n",
    "        return digest.finalize()\n",
    "    \n",
    "    def __hash_functio_g(self, message):\n",
    "        digest = hashes.Hash(hashes.BLAKE2s(32))\n",
    "        digest.update(message)\n",
    "        return digest.finalize()\n",
    "\n",
    "\n",
    "    # Metodos Publicos\n",
    "    def encrypt(self, message, peer_public_key):\n",
    "        # r <- h(message)\n",
    "        r = self.__hash_functio_h(message)\n",
    "        # y <- message XOR g(r)\n",
    "        y = bytes([a ^^ b for a, b in zip(message, self.__hash_functio_g(r))])\n",
    "        # Concatenamos y e r\n",
    "        new_r = y + r\n",
    "        new_r_int = int.from_bytes(new_r, \"big\") \n",
    "\n",
    "        # Vamos agora usar o KEM construido na alinea anterior\n",
    "        symetric_key, m_encrypted = self.kem.encapsulation(peer_public_key, new_r_int)\n",
    "        \n",
    "        # c = symetric_key XOR r\n",
    "        c = bytes([a ^^ b for a, b in zip(symetric_key, r)])\n",
    "\n",
    "        return y, m_encrypted, c\n",
    "        \n",
    "    def decrypt(self, y, m_encrypted, c):\n",
    "        # Usamos o KEM para obter a chave\n",
    "        symetric_key = self.kem.decapsulation(m_encrypted)\n",
    "        \n",
    "        # Repetimos o processo mas com r <- c XOR symetric_key\n",
    "        r = bytes([a ^^ b for a, b in zip(c, symetric_key)])\n",
    "        new_r = y + r\n",
    "        new_r_int = int.from_bytes(new_r, \"big\") \n",
    "\n",
    "        # Verificamos pois f(public_key, new_r) = (symetric_key, m_encrypted)\n",
    "        new_symetric_key, new_m_encrypted = self.kem.encapsulation(self.kem.public_key, new_r_int)\n",
    "        if symetric_key != new_symetric_key:\n",
    "            print(\"Not YO: symetric_key is diferent\")\n",
    "        else:\n",
    "            if m_encrypted != new_m_encrypted:\n",
    "                print(\"Not YO: m_encrypted is diferent\")\n",
    "            else:\n",
    "                message = bytes([a ^^ b for a, b in zip(y, self.__hash_functio_g(r))])\n",
    "                print(\"Yo the message is: \", message)"
   ]
  },
  {
   "cell_type": "code",
   "execution_count": 174,
   "metadata": {},
   "outputs": [
    {
     "name": "stdout",
     "output_type": "stream",
     "text": [
      "Yo the message is:  b'This message is YO'\n"
     ]
    }
   ],
   "source": [
    "salt = os.urandom(12)\n",
    "\n",
    "bob_RSA = KEM_RSA(salt)\n",
    "bob_RSA.generate_keys(1024)\n",
    "\n",
    "alice_RSA = KEM_RSA(salt)\n",
    "alice_RSA.generate_keys(1024)\n",
    "\n",
    "\n",
    "bob_PKE = PKE(bob_RSA)\n",
    "y, m_encrypted, c = bob_PKE.encrypt(b\"This message is YO\", alice_RSA.public_key)\n",
    "\n",
    "alice_PKE = PKE(alice_RSA)\n",
    "alice_PKE.decrypt(y, m_encrypted, c)"
   ]
  }
 ],
 "metadata": {
  "interpreter": {
   "hash": "8ba6743dafe343a4d801545260922497129de947da4f0d4dee5bf5f2fed8b245"
  },
  "kernelspec": {
   "display_name": "SageMath 9.5",
   "language": "sage",
   "name": "SageMath-9.5"
  },
  "language_info": {
   "codemirror_mode": {
    "name": "ipython",
    "version": 3
   },
   "file_extension": ".py",
   "mimetype": "text/x-python",
   "name": "python",
   "nbconvert_exporter": "python",
   "pygments_lexer": "ipython3",
   "version": "3.9.9"
  },
  "orig_nbformat": 4
 },
 "nbformat": 4,
 "nbformat_minor": 2
}
