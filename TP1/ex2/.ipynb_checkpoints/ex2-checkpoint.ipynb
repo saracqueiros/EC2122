{
 "cells": [
  {
   "cell_type": "markdown",
   "id": "18600a77",
   "metadata": {},
   "source": [
    "# Trabalho Prático 1 - Grupo 15\n",
    "#### João Gonçalves - pg46535\n",
    "#### Sara Queirós - pg47661\n",
    "## Exercício 2 \n",
    "\n",
    "2. Use o SageMath para, \n",
    "    1. Construir uma classe Python que implemente um KEM- RSA. A classe deve\n",
    "        1. Inicializar cada instância recebendo  o parâmetro de segurança (tamanho em bits do módulo RSA) e gere as chaves pública e privada.\n",
    "        2. Conter funções para encapsulamento e revelação da chave gerada.\n",
    "    2. Construir,  a partir deste KEM e usando a transformação de Fujisaki-Okamoto, um PKE que seja IND-CCA seguro.\n"
   ]
  }
 ],
 "metadata": {
  "kernelspec": {
   "display_name": "SageMath 9.5",
   "language": "sage",
   "name": "sagemath-9.5"
  },
  "language_info": {
   "codemirror_mode": {
    "name": "ipython",
    "version": 3
   },
   "file_extension": ".py",
   "mimetype": "text/x-python",
   "name": "python",
   "nbconvert_exporter": "python",
   "pygments_lexer": "ipython3",
   "version": "3.9.9"
  }
 },
 "nbformat": 4,
 "nbformat_minor": 5
}
