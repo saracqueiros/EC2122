{
 "cells": [
  {
   "cell_type": "code",
   "execution_count": 90,
   "id": "0c21c691",
   "metadata": {},
   "outputs": [],
   "source": [
    "import os\n",
    "import random\n",
    "import hashlib\n",
    "from sage.arith.power import generic_power\n"
   ]
  },
  {
   "cell_type": "code",
   "execution_count": 106,
   "id": "7aebce3c",
   "metadata": {},
   "outputs": [],
   "source": [
    "class KEMRSA():\n",
    "    def __init__(self, param):\n",
    "        #parametro de segurança\n",
    "        self.p = 0\n",
    "        self.q = 0\n",
    "        self.n = 0\n",
    "        self.e = 0\n",
    "        self.d = 0\n",
    "        self.to_key = None\n",
    "        self.size = param\n",
    "        self.chave_cifrada = None\n",
    "        self.chave_decifrada = None\n",
    "        self.chave_gerada_e = None\n",
    "        self.chave_gerada_d = None\n",
    "        self.salt = 0\n",
    "\n",
    "    def generate_keys(self):\n",
    "\n",
    "        #temos de encontrar p e q primos com size/2 bits\n",
    "        while not (self.p in Primes()):\n",
    "            self.p = next_prime(ZZ.random_element(pow(2,self.size/2-1)+1, pow(2,self.size/2)-1))\n",
    "\n",
    "        while not (self.q in Primes()):\n",
    "            self.q = next_prime(ZZ.random_element(pow(2,self.size/2-1)+1, pow(2,self.size/2)-1))\n",
    "\n",
    "        #calcular o n \n",
    "        self.n = self.p * self.q\n",
    "        \n",
    "        #calcular o phi\n",
    "        phi = (self.p -1) * (self.q-1)\n",
    "\n",
    "        #e is a pseudo-random integer\n",
    "        self.e = ZZ.random_element(phi)\n",
    "\n",
    "        while (gcd(e,phi)!=1):\n",
    "            self.e = ZZ.random_element(phi)\n",
    "\n",
    "        #we use the extended Euclidean algorithm to calculate d \n",
    "        bezout = xgcd(self.e,phi)\n",
    "        self.d = Integer(mod(bezout[1], phi))\n",
    "\n",
    "        if(mod(self.d*self.e, phi) == 1):\n",
    "            print(\"Congruente\")\n",
    "        else: \n",
    "            print(\"Não Congruente\")\n",
    "            self.generate_keys()  \n",
    "\n",
    "        #Assim temos todos os parâmetros para as chaves privadas e públicas \n",
    "        #public = (n,e)\n",
    "        #privada = (p,q,d)\n",
    "\n",
    "    def encapsulamento(self, chave):\n",
    "        self.to_key = int(chave)\n",
    "        #Gera o salt\n",
    "        self.salt = os.urandom(16)\n",
    "        \n",
    "        key_to_bytes = self.to_key.to_bytes(int(self.size/8), \"big\")\n",
    "        self.chave_gerada_e = hashlib.pbkdf2_hmac('sha256', key_to_bytes, self.salt, 100000)\n",
    "\n",
    "        self.cifrar()\n",
    "        print(\"Mensagem cifrada\" , self.chave_cifrada)\n",
    "\n",
    "    def cifrar(self):\n",
    "        self.chave_cifrada = power_mod(self.to_key, self.e, self.n)\n",
    "\n",
    "    def decifrar(self):\n",
    "        key_to_dec = int(self.chave_cifrada)\n",
    "        self.chave_decifrada = power_mod(key_to_dec, self.d, self.n)\n",
    "    \n",
    "    def revelar(self):\n",
    "        self.decifrar()\n",
    "\n",
    "        key_to_bytes = int(self.chave_decifrada).to_bytes(int(self.size/8), \"big\")\n",
    "        self.chave_gerada_d = hashlib.pbkdf2_hmac('sha256', key_to_bytes, self.salt, 100000)\n",
    "        print(\"Mensagem decifrada\" , self.chave_decifrada)\n",
    "\n",
    "    def verificar(self):\n",
    "        if (self.chave_gerada_e == self.chave_gerada_d):\n",
    "            print(\"As chaves coincidem!\")\n",
    "        else: \n",
    "            print(\"As chaves não coincidem!\")"
   ]
  },
  {
   "cell_type": "code",
   "execution_count": 107,
   "id": "e29daabf",
   "metadata": {},
   "outputs": [
    {
     "name": "stdout",
     "output_type": "stream",
     "text": [
      "Não Congruente\n",
      "Congruente\n",
      "313\n",
      "Mensagem cifrada 20667359703789079298494833492705483148114092544793671772476340888937221785812998117321779339618175111024681189133449947209820226281262897152174905454514982924449545353261679912150792941682139078895291001096154042350797717292662177213084944612114528105307976828307546973058689549999551782253914317627752036223\n",
      "Mensagem decifrada 313\n",
      "As chaves coincidem!\n"
     ]
    }
   ],
   "source": [
    "kem = KEMRSA(1024)\n",
    "kem.generate_keys()\n",
    "elem =ZZ.random_element(1024)\n",
    "print(elem)\n",
    "kem.encapsulamento(elem)\n",
    "kem.revelar()\n",
    "kem.verificar()"
   ]
  }
 ],
 "metadata": {
  "interpreter": {
   "hash": "3d597f4c481aa0f25dceb95d2a0067e73c0966dcbd003d741d821a7208527ecf"
  },
  "kernelspec": {
   "display_name": "SageMath 9.5",
   "language": "sage",
   "name": "SageMath-9.5"
  },
  "language_info": {
   "codemirror_mode": {
    "name": "ipython",
    "version": 3
   },
   "file_extension": ".py",
   "mimetype": "text/x-python",
   "name": "python",
   "nbconvert_exporter": "python",
   "pygments_lexer": "ipython3",
   "version": "3.9.9"
  }
 },
 "nbformat": 4,
 "nbformat_minor": 5
}
