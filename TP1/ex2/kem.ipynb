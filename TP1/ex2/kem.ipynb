{
 "cells": [
  {
   "cell_type": "markdown",
   "metadata": {},
   "source": [
    "# Trabalho Prático 1 - Grupo 15\n",
    "#### João Gonçalves - pg46535\n",
    "#### Sara Queirós - pg47661\n",
    "## Exercício 2 \n",
    "\n",
    "2. Use o SageMath para, \n",
    "    1. Construir uma classe Python que implemente um KEM- RSA. A classe deve\n",
    "        1. Inicializar cada instância recebendo  o parâmetro de segurança (tamanho em bits do módulo RSA) e gere as chaves pública e privada.\n",
    "        2. Conter funções para encapsulamento e revelação da chave gerada.\n",
    "    2. Construir,  a partir deste KEM e usando a transformação de Fujisaki-Okamoto, um PKE que seja IND-CCA seguro."
   ]
  },
  {
   "cell_type": "code",
   "execution_count": 1,
   "metadata": {},
   "outputs": [],
   "source": [
    "import os\n",
    "import random\n",
    "import hashlib\n",
    "from sage.arith.power import generic_power"
   ]
  },
  {
   "cell_type": "code",
   "execution_count": 42,
   "metadata": {},
   "outputs": [],
   "source": [
    "class KEMRSA():\n",
    "    def __init__(self, param, random):\n",
    "        #parametro de segurança\n",
    "        self.p = 0\n",
    "        self.q = 0\n",
    "        self.n = 0\n",
    "        self.e = 0\n",
    "        self.d = 0\n",
    "        self.to_key = None\n",
    "        self.size = param\n",
    "        self.chave_cifrada = None\n",
    "        self.chave_decifrada = None\n",
    "        self.chave_gerada_e = None\n",
    "        self.chave_gerada_d = None\n",
    "        self.salt = random\n",
    "        self.private_key = None\n",
    "        self.public_key  = None\n",
    "\n",
    "    def generate_keys(self):\n",
    "\n",
    "        #temos de encontrar p e q primos com size/2 bits\n",
    "        while not (self.p in Primes()):\n",
    "            self.p = next_prime(ZZ.random_element(pow(2,self.size/2-1)+1, pow(2,self.size/2)-1))\n",
    "\n",
    "        while not (self.q in Primes()):\n",
    "            self.q = next_prime(ZZ.random_element(pow(2,self.size/2-1)+1, pow(2,self.size/2)-1))\n",
    "\n",
    "        #calcular o n \n",
    "        self.n = self.p * self.q\n",
    "        \n",
    "        #calcular o phi\n",
    "        phi = (self.p -1) * (self.q-1)\n",
    "\n",
    "        #e is a pseudo-random integer\n",
    "        self.e = ZZ.random_element(phi)\n",
    "\n",
    "        while (gcd(e,phi)!=1):\n",
    "            self.e = ZZ.random_element(phi)\n",
    "\n",
    "        #we use the extended Euclidean algorithm to calculate d \n",
    "        bezout = xgcd(self.e,phi)\n",
    "        self.d = Integer(mod(bezout[1], phi))\n",
    "\n",
    "        if not (mod(self.d*self.e, phi) == 1):\n",
    "            self.generate_keys()        \n",
    "              \n",
    "\n",
    "        #Assim temos todos os parâmetros para as chaves privadas e públicas \n",
    "        self.private_key = (self.n, self.d)\n",
    "        self.public_key  = (self.n, self.e)\n",
    "\n",
    "    def encapsulamento(self, chave, second_public_key):\n",
    "        self.to_key = int(chave)\n",
    "        #Gera o salt\n",
    "        key_to_bytes = self.to_key.to_bytes(int(self.size/8), \"big\")\n",
    "        self.chave_gerada_e = hashlib.pbkdf2_hmac('sha256', key_to_bytes, self.salt, 100000)\n",
    "\n",
    "        self.cifrar(second_public_key)\n",
    "        return self.chave_cifrada, self.chave_gerada_e\n",
    "\n",
    "    def cifrar(self, second_public_key):\n",
    "        n , e = second_public_key\n",
    "        self.chave_cifrada = power_mod(self.to_key, e, n)\n",
    "\n",
    "    def decifrar(self, msg_to_decifrar):\n",
    "        self.chave_cifrada = msg_to_decifrar\n",
    "        key_to_dec = int(self.chave_cifrada)\n",
    "        self.chave_decifrada = power_mod(key_to_dec, self.d, self.n)\n",
    "    \n",
    "    def revelar(self, msg_to_decifrar):\n",
    "        self.decifrar(msg_to_decifrar)\n",
    "\n",
    "        key_to_bytes = int(self.chave_decifrada).to_bytes(int(self.size/8), \"big\")\n",
    "        self.chave_gerada_d = hashlib.pbkdf2_hmac('sha256', key_to_bytes, self.salt, 100000)\n",
    "        return self.chave_decifrada, self.chave_gerada_d\n",
    "\n",
    "    def verificar(self, receiver, sender):\n",
    "        self.chave_gerada_e = receiver\n",
    "        self.chave_gerada_d = sender\n",
    "        if (self.chave_gerada_e == self.chave_gerada_d):\n",
    "            print(\"As chaves coincidem! Mensagem Inicial intacta\")\n",
    "        else: \n",
    "            print(\"As chaves não coincidem!\")"
   ]
  },
  {
   "cell_type": "markdown",
   "metadata": {},
   "source": [
    "# Exercício a)"
   ]
  },
  {
   "cell_type": "code",
   "execution_count": 43,
   "metadata": {},
   "outputs": [
    {
     "name": "stdout",
     "output_type": "stream",
     "text": [
      "As chaves coincidem! Mensagem Inicial intacta\n",
      "Chave de a:  b'6a\\xad\\x92\\x88G\\x8fp\\xc4\\x80\\xbb\\xd7\\x944\\xae\\xc7\\x87:>j\\xdc\\xc6\\x95\\x7f\\x92\\xa0tR4\\xa0WL'\n",
      "Chave de b:  b'6a\\xad\\x92\\x88G\\x8fp\\xc4\\x80\\xbb\\xd7\\x944\\xae\\xc7\\x87:>j\\xdc\\xc6\\x95\\x7f\\x92\\xa0tR4\\xa0WL'\n"
     ]
    }
   ],
   "source": [
    "random = os.urandom(16)\n",
    "kem_first = KEMRSA(1024, random)\n",
    "kem_second = KEMRSA(1024, random)\n",
    "\n",
    "kem_first.generate_keys()\n",
    "kem_second.generate_keys()\n",
    "\n",
    "elem = ZZ.random_element(1024)\n",
    "\n",
    "msg_enc, sender_key = kem_first.encapsulamento(elem, kem_second.public_key)\n",
    "dec, receiver_key = kem_second.revelar(msg_enc)\n",
    "\n",
    "kem_first.verificar(sender_key, receiver_key)\n",
    "\n",
    "print(\"Chave de a: \", sender_key)\n",
    "print(\"Chave de b: \", receiver_key)\n"
   ]
  },
  {
   "cell_type": "markdown",
   "metadata": {},
   "source": [
    "# Exercício b)"
   ]
  },
  {
   "cell_type": "code",
   "execution_count": 70,
   "metadata": {},
   "outputs": [],
   "source": [
    "class PKE:\n",
    "    def __init__(self,kem):\n",
    "        self.kem = kem\n",
    "\n",
    "    #Funções de hash privadas\n",
    "    def __hash_function_h(self, message):\n",
    "        digest = hashlib.sha256()\n",
    "        digest.update(message)\n",
    "        return digest.digest()\n",
    "    \n",
    "    def __hash_function_g(self, message):\n",
    "        digest = hashlib.sha256()\n",
    "        digest.update(message)\n",
    "        return digest.digest()\n",
    "\n",
    "\n",
    "# Metodos Publicos\n",
    "    def encrypt(self, message, public_key_d):\n",
    "        # Cifrar a mensagem com uma função hash\n",
    "        r = self.__hash_function_h(message)\n",
    "        #Aplicar XOR à mensagem\n",
    "        mcx = bytes([a ^^ b for a, b in zip(message, self.__hash_function_g(r))])\n",
    "        # Concatenamos y e r\n",
    "        new_r = mcx + r\n",
    "        new_r_int = int.from_bytes(new_r, \"big\") \n",
    "\n",
    "        #Cifrar utilizando o KEM da alínea anterior \n",
    "        cifrada_kem, chave_ambos = self.kem.encapsulamento(new_r_int, public_key_d)\n",
    "\n",
    "        #Com a chave simétrica, aplicando XOR a r\n",
    "        simXor = bytes([a ^^ b for a, b in zip(chave_ambos, r)])\n",
    "        return mcx, cifrada_kem, simXor\n",
    "\n",
    "    def decrypt(self, mcx, cifrada_kem, simXor):\n",
    "        #Obtemos a chave com o KEM definido antes\n",
    "        _ , chave_ambos = self.kem.revelar(cifrada_kem)        \n",
    "        \n",
    "        #Aplicamos o XOR com a chave simetrica de ambos para decifrar\n",
    "        r = bytes([a ^^ b for a, b in zip(simXor, chave_ambos)])\n",
    "        new_r = mcx + r\n",
    "        new_r_int = int.from_bytes(new_r, \"big\") \n",
    "\n",
    "        nova_cifra_kem, nova_chave_ambos = self.kem.encapsulamento(new_r_int, self.kem.public_key)\n",
    "\n",
    "        if chave_ambos != nova_chave_ambos:\n",
    "            print(\"A chave não é simétrica\")\n",
    "        else:\n",
    "            if cifrada_kem != nova_cifra_kem:\n",
    "                print(\"Mensagem não coincide com a inicial!\")\n",
    "            else:\n",
    "                message = bytes([a ^^ b for a, b in zip(y, self.__hash_function_g(r))])\n",
    "                print(\"Mensagem recebida: \", message)\n",
    "  "
   ]
  },
  {
   "cell_type": "code",
   "execution_count": 71,
   "metadata": {},
   "outputs": [
    {
     "name": "stdout",
     "output_type": "stream",
     "text": [
      "chave ambos b'@]\\x8a\\x0c\\xc4\\x96g\\x03bB\\x0eI\\xc9\\xef4\\xbb\\xc6v]aKf\\x12\\xd9t\\xc2\\x96&b\\x9e\\xf3C'\n",
      "Mensagem recebida:  b'Mensagem para teste'\n"
     ]
    }
   ],
   "source": [
    "salt = os.urandom(12)\n",
    "\n",
    "first_RSA = KEMRSA(1024, salt)\n",
    "first_RSA.generate_keys()\n",
    "\n",
    "second_RSA = KEMRSA(1024, salt)\n",
    "second_RSA.generate_keys()\n",
    "\n",
    "\n",
    "first_PKE = PKE(first_RSA)\n",
    "mcx, cifrada_kem, simXor = first_PKE.encrypt(b\"Mensagem para teste\", second_RSA.public_key)\n",
    "\n",
    "second_PKE = PKE(second_RSA)\n",
    "second_PKE.decrypt(mcx, cifrada_kem, simXor)\n",
    "\n"
   ]
  }
 ],
 "metadata": {
  "kernelspec": {
   "display_name": "SageMath 9.5",
   "language": "sage",
   "name": "SageMath-9.5"
  },
  "language_info": {
   "codemirror_mode": {
    "name": "ipython",
    "version": 3
   },
   "file_extension": ".py",
   "mimetype": "text/x-python",
   "name": "python",
   "nbconvert_exporter": "python",
   "pygments_lexer": "ipython3",
   "version": "3.9.9"
  },
  "orig_nbformat": 4
 },
 "nbformat": 4,
 "nbformat_minor": 2
}
