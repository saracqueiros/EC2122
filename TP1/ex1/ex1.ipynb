{
 "cells": [
  {
   "cell_type": "markdown",
   "metadata": {},
   "source": [
    "# Trabalho Prático 0 - Grupo 15\n",
    "#### João Esteves - pg46535\n",
    "#### Sara Queirós - pg47661\n",
    "## Exercício 1 \n",
    "\n",
    "1. Criar um comunicação privada assíncrona entre um agente Emitter e um agente Receiver que cubra os seguintes aspectos:\n",
    "    1. Autenticação do criptograma e dos metadados (associated data). Usar uma cifra simétrica  num modo HMAC  que seja seguro contra ataques aos “nounces”.\n",
    "    2. Os “nounces” são gerados por um gerador pseudo aleatório (PRG) construído por um função de hash em modo XOF.\n",
    "    3. O par de chaves $$\\mathtt{cipher\\_key}, \\mathtt{mac\\_key}$$ , para cifra e autenticação, é acordado entre agentes usando o protocolo DH com autenticação dos agentes usando assinaturas DSA.\n"
   ]
  },
  {
   "cell_type": "code",
   "execution_count": 2,
   "metadata": {},
   "outputs": [],
   "source": [
    "from cryptography.hazmat.primitives import hashes, hmac\n",
    "from cryptography.hazmat.primitives.asymmetric import dh\n",
    "from cryptography.hazmat.primitives.kdf.hkdf import HKDF\n",
    "import cryptography.exceptions\n",
    "from cryptography.hazmat.primitives.asymmetric import dsa\n",
    "from cryptography.hazmat.primitives.ciphers.aead import AESGCM"
   ]
  },
  {
   "cell_type": "markdown",
   "metadata": {},
   "source": [
    "### Geração de Chaves\n",
    "* Para efetuar a autenticação do criptograma e dos metadados é necessário criar uma chave com a qual se possa cifrar e decifrar. Utilizando o protocolo DH, geramos os parâmetros necessários para a geração das chaves privadas e públicas que cada um dos intervenientes através de:\n"
   ]
  },
  {
   "cell_type": "code",
   "execution_count": 3,
   "metadata": {},
   "outputs": [],
   "source": [
    "parameters = dh.generate_parameters(generator=2, key_size=1024)\n",
    "\n",
    "#obtenção da chave privada\n",
    "def get_private_key(self, parameters):\n",
    "        self.private_key = parameters.generate_private_key()\n",
    "\n",
    "#obtenção da chave pública\n",
    "def get_public_key(self):\n",
    "    self.public_key = self.private_key.public_key()"
   ]
  },
  {
   "cell_type": "markdown",
   "metadata": {},
   "source": [
    "* Considerando a ideologia do protocolo DH, que é um método que permite que as duas partes concordem conjuntamente com um segredo partilhado, a cada um deles, é enviada a chave pública do outro, a partir da qual, juntamente com a sua chave privada, gera a chave partilhada. Isso é efetuado através da seguinte função, presente no Emitter e Receiver:\n"
   ]
  },
  {
   "cell_type": "code",
   "execution_count": null,
   "metadata": {},
   "outputs": [],
   "source": [
    "def get_derived_key(self, receiver_public_key):\n",
    "        key_interm = self.private_key.exchange(receiver_public_key)\n",
    "        # Derivar chave\n",
    "        self.shared_key = HKDF(\n",
    "            algorithm=hashes.SHA256(),\n",
    "            length=32,\n",
    "            salt=None,\n",
    "            info=None,\n",
    "        ).derive(key_interm) "
   ]
  },
  {
   "cell_type": "markdown",
   "metadata": {},
   "source": [
    "**Deste modo é gerada a cipher_key, sendo uma chave simétrica partilhada pelo Emitter e Receiver.**"
   ]
  },
  {
   "cell_type": "markdown",
   "metadata": {},
   "source": [
    "### Assinaturas DSA\n",
    "* DSA é um algoritmo que permite assinar as mensagens enviadas, utilizando uma assinatura comum ao Emitter e Receiver, que é cifrada com a chave partilhada por ambos, utilizando o modo HMAC.  \n",
    "* Posteriormente, o Receiver deve verificar a autenticação da mensagem ao verificar essa assinatura. \n"
   ]
  },
  {
   "cell_type": "code",
   "execution_count": null,
   "metadata": {},
   "outputs": [],
   "source": [
    "message = b'This is my signature'\n",
    "\n",
    "def authentication(self, message):\n",
    "        h = hmac.HMAC(self.shared_key, hashes.SHA256())\n",
    "        h.update(message)\n",
    "        return h.finalize()"
   ]
  },
  {
   "cell_type": "markdown",
   "metadata": {},
   "source": [
    "### Cifrar e Enviar a mensagem\n",
    "* Para cifrar a mensagem e garantir a sua segurança contra ataques aos nounces, é necessário gerar um nounce aleatório com um Pseudo Random Generator e cifrar a mensagem com esse nounce. A aleatoriedade do nounce segurança adicional à cifra pois não é possível prever o seu valor para cada mensagem.\n",
    "* Foi utilizada Advanced Encryption Standard utilizando o Galois Encounter Mode, que fornece confidencialidade e integridade ao texto cifrado, permitindo a utilização de um nounce ao cifrar a mensagem. "
   ]
  },
  {
   "cell_type": "code",
   "execution_count": null,
   "metadata": {},
   "outputs": [],
   "source": [
    "def encode(self, data, ad):\n",
    "        #codificar o texto \n",
    "        nonce = os.urandom(16)\n",
    "        aesgcm = AESGCM(self.shared_key)\n",
    "        ad += nonce\n",
    "        #Cifrar com o nounce e metadados usando AESGCM\n",
    "        ciphertext = aesgcm.encrypt(nonce, data, ad)\n",
    "        return nonce, ciphertext"
   ]
  },
  {
   "cell_type": "markdown",
   "metadata": {},
   "source": [
    "*  A mensagem enviada irá conter a assinatura do Emitter, que permite ao Receiver verificar a autenticidade da origem da mensagem, o nonce (para permitir que a mensagem seja decifrada), assim como os metadados que são enviados, e o texto cifrado."
   ]
  },
  {
   "cell_type": "code",
   "execution_count": null,
   "metadata": {},
   "outputs": [],
   "source": [
    "def sendMessage(self, mensagem, sigMess):\n",
    "    #calculos assinatura\n",
    "    sign = self.authentication(sigMess)\n",
    "    #gerar um valor aleatorio para os metadados\n",
    "    ad = os.urandom(12)\n",
    "    #cifrar o texto e obter o nounce com que foi cifrado.\n",
    "    nonce, ciphertext = self.encode(mensagem, ad)\n",
    "    #assinatura + nonce + metadados + texto cifrado\n",
    "    return sign + nonce + ad + ciphertext"
   ]
  },
  {
   "cell_type": "markdown",
   "metadata": {},
   "source": [
    "### Receber e Decifrar a mensagem\n",
    "* Quando o Receiver recebe a mensagem, inicialmente necessita de a dividir nos respetivos elementos de informação para decifrar o texto que ela contém.\n",
    "* Após isso, verifica se a signature da mensagem que recebeu corresponde à sua signature.Caso ela corresponda, ele decifra a mensagem. Caso contrário não o faz, pois a mensagem não foi enviada pelo Emitter com quem ele espera comunicar."
   ]
  },
  {
   "cell_type": "code",
   "execution_count": null,
   "metadata": {},
   "outputs": [],
   "source": [
    "def divide_data(data):\n",
    "        # sign + nonce + ad + ciphertext\n",
    "        # 0 a 31 - signature : 32 bytes\n",
    "        # 32 a 47 - nonce : 16 bytes\n",
    "        # 48 a 59 - ad para derivar\n",
    "        # a partir do 60 - texto cifrado\n",
    "        sign = data[:32]\n",
    "        nonce = data[32:48]\n",
    "        ad = data[48:60]\n",
    "        texto_cifrado = data[60:] \n",
    "        return sign, nonce, ad, texto_cifrado\n",
    "\n",
    "#função que lê a mensagem \n",
    "def readMessage(self, data, menSig):\n",
    "    sign, nonce, ad, texto_cifrado = self.divide_data(data)\n",
    "    #verifica se o autor da mensagem é o esperado\n",
    "    if(self.verify_Auth(menSig, sign)):\n",
    "        aad = ad + nonce\n",
    "        #decifra o texto \n",
    "        plaintext = self.decode(texto_cifrado, nonce, aad)\n",
    "        print(\"Texto decifrado: \")\n",
    "        print(plaintext)\n",
    "    else:\n",
    "        raise Exception(\"Autenticidade tem falhas!\")"
   ]
  },
  {
   "cell_type": "markdown",
   "metadata": {},
   "source": [
    "Para verificar a autenticação, gera a sua mac_key, com a chave partilhada e a mesma mensagem do Emitter e verifica se corresponde. Ao não corresponder, emite uma exceção."
   ]
  },
  {
   "cell_type": "code",
   "execution_count": null,
   "metadata": {},
   "outputs": [],
   "source": [
    "def verify_Auth(self, message, signature):\n",
    "        h = hmac.HMAC(self.shared_key, hashes.SHA256())\n",
    "        h.update(message)\n",
    "        try: \n",
    "            h.verify(signature)\n",
    "            return True\n",
    "        except cryptography.exceptions.InvalidSignature:\n",
    "            return False"
   ]
  },
  {
   "cell_type": "markdown",
   "metadata": {},
   "source": [
    "Relativamente ao decode, utiliza-se o mesmo modo de cifrar, ou seja, AESGCM, com a chave simétrica, o nounce que foi enviado com o mensagem e os metadados. Apenas na posse de todos estes dados é que é possível decifrar o conteúdo enviado."
   ]
  },
  {
   "cell_type": "code",
   "execution_count": null,
   "metadata": {},
   "outputs": [],
   "source": [
    "\n",
    "def decode (self, ciphertext, nonce, aad):\n",
    "    aesgcm = AESGCM(self.shared_key)\n",
    "    try: \n",
    "        #decifrar com os mesmos dados da cifra\n",
    "        plaintext = aesgcm.decrypt(nonce, ciphertext, aad)\n",
    "    except cryptography.exceptions.InvalidTag:\n",
    "        return None\n",
    "    return plaintext.decode('utf-8')\n"
   ]
  },
  {
   "cell_type": "markdown",
   "metadata": {},
   "source": [
    "**Assim, criamos uma comunicação assíncrona privada, com a utilização do protocolo DH, utilizando assinaturas DSA, com autenticação do criptograma e metadas usando cifras simétricas num modo HMAC e, ainda, protegende contra ataques a nounces, com geração dos mesmos de forma aleatória.**"
   ]
  },
  {
   "cell_type": "markdown",
   "metadata": {},
   "source": [
    "* Apresenta-se em baixo um exemplo do resultado dado para a mensagem \"Mensagem utilizada para teste\":\n",
    "![](../img/ex1_1.png)\n",
    "\n",
    "\n",
    "\n",
    "* Outro exemplo para \"Outra mensagem para testar\":\n",
    "![](../img/ex1_3.png)"
   ]
  }
 ],
 "metadata": {
  "interpreter": {
   "hash": "85bb7cccb545b5ee15574fda528c370cf513cdde49bf31f170dac3deac012e67"
  },
  "kernelspec": {
   "display_name": "Python 3.8.8 ('base')",
   "language": "python",
   "name": "python3"
  },
  "language_info": {
   "codemirror_mode": {
    "name": "ipython",
    "version": 3
   },
   "file_extension": ".py",
   "mimetype": "text/x-python",
   "name": "python",
   "nbconvert_exporter": "python",
   "pygments_lexer": "ipython3",
   "version": "3.8.8"
  },
  "orig_nbformat": 4
 },
 "nbformat": 4,
 "nbformat_minor": 2
}
