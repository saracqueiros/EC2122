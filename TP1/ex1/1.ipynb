{
 "cells": [
  {
   "cell_type": "markdown",
   "metadata": {},
   "source": [
    "# Trabalho Prático 1 - Grupo 15\n",
    "\n",
    "#### João Gonçalves - pg46535\n",
    "#### Sara Queirós - pg47661\n",
    "## Exercício 1 \n",
    "\n",
    "1. Use o “package” Cryptography para\n",
    "    1. Implementar uma AEAD com “Tweakable Block Ciphers” conforme está descrito na última secção do texto +Capítulo 1: Primitivas Criptográficas Básicas.  A cifra por blocos primitiva, usada para gerar a “tweakable block cipher”, é o AES-256 ou o ChaCha20.\n",
    "    2. Use esta construção para construir um canal privado de informação assíncrona com acordo de chaves feito com “X448 key exchange” e “Ed448 Signing&Verification” para autenticação  dos agentes. Deve incluir uma fase de confirmação da chave acordada.\n"
   ]
  },
  {
   "cell_type": "markdown",
   "metadata": {},
   "source": [
    "### Autenticação  dos agentes - Ed448 Signing&Verification\n",
    "Com o esquema de assinatura da curva elíptica de Edwards, é possível utilizar um algoritmo que instancie os parâmetros necessários à autenticação dos agentes envolvidos.\n",
    "Assim, o **receiver**:"
   ]
  },
  {
   "cell_type": "code",
   "execution_count": null,
   "metadata": {},
   "outputs": [],
   "source": [
    "#Inicialmente é gerada a chave privada segundo este algoritmo\n",
    "def generate_Ed448_private_key(self):\n",
    "    return Ed448PrivateKey.generate()\n",
    "\n",
    "#A partir da privada gera-se a pública\n",
    "def generate_Ed448_public_key(self):\n",
    "    return self.Ed448_private_key.public_key()\n",
    "\n",
    "#Com uma mensagem de assinatura definida pelo receiver, cria-se a codificação dessa com a chave privada, \n",
    "# gerando a assinatura\n",
    "def generate_Ed448_signature(self):\n",
    "    return self.Ed448_private_key.sign(self.signing_message)"
   ]
  },
  {
   "cell_type": "markdown",
   "metadata": {},
   "source": [
    "Dada um assinatura introduzida pelo utilizador, o emitter cria a partir dela, a sua assinatura com a chave privada.\n",
    "Para o **receiver** verificar a mensagem, ele recebe a chave pública e a assinatura produzida e deve ser capaz de confirmar se corresponde assinatura gerada que recebeu corresponde à que foi introduzida pelo utilizador:"
   ]
  },
  {
   "cell_type": "code",
   "execution_count": null,
   "metadata": {},
   "outputs": [],
   "source": [
    "#Verificar se as assinaturas batem certo entre si  \n",
    "    def verify_Ed448_signature(self, signature, public_key):\n",
    "            try:\n",
    "                public_key.verify(signature, self.signing_message)\n",
    "            except: #InvalidSignature:\n",
    "                raiseExceptions(\"Autenticação dos agentes falhou!\")"
   ]
  },
  {
   "cell_type": "markdown",
   "metadata": {},
   "source": [
    "## X448 key exchange\n",
    "Após a verificação de assinaturas, inicia-se o processo de troca de chaves entre as duas partes. Para isso, geram-se as chaves privadas e públicas. Com a partilha da chave pública entre emitter e receiver, gera-se a partilhada, através de uma KDF, neste caso com o SHA256."
   ]
  },
  {
   "cell_type": "code",
   "execution_count": null,
   "metadata": {},
   "outputs": [],
   "source": [
    "def generate_X448_private_key(self):\n",
    "    # Generate a private key for use in the exchange.\n",
    "    return X448PrivateKey.generate()\n",
    "    \n",
    "def generate_X448_public_key(self):\n",
    "    return self.X448_private_key.public_key()\n",
    "\n",
    "def generate_X448_shared_key(self, X448_emitter_public_key):\n",
    "    key = self.X448_private_key.exchange(X448_emitter_public_key)\n",
    "    self.X448_shared_key = HKDF(\n",
    "        algorithm=hashes.SHA256(),\n",
    "        length=32,\n",
    "        salt=None,\n",
    "        info=b'handshake data',\n",
    "    ).derive(key)"
   ]
  },
  {
   "cell_type": "markdown",
   "metadata": {},
   "source": [
    "Feito isto, é necessário verificar o acordo de chaves. Para tal, o emitter produz um ciphertext da key que o emitter deve ser capaz de decifrar e verificar:"
   ]
  },
  {
   "cell_type": "code",
   "execution_count": null,
   "metadata": {},
   "outputs": [],
   "source": [
    "#emitter\n",
    "def key_to_confirm(self):\n",
    "        nonce = os.urandom(16)\n",
    "        #Cifra a chave partilhada com ChaCha20\n",
    "        algorithm = algorithms.ChaCha20(self.X448_shared_key, nonce)\n",
    "        cipher = Cipher(algorithm, mode=None)\n",
    "        encryptor = cipher.encryptor()\n",
    "        ciphered = encryptor.update(self.X448_shared_key)\n",
    "        #Envia o nonce e chave cifrada\n",
    "        ciphered = nonce + ciphered\n",
    "        return ciphered\n",
    "\n",
    "#receiver\n",
    "def confirm_key(self, cpht):\n",
    "        #16 bytes reservados para o nonce\n",
    "        nonce = cpht[0:16]\n",
    "        #o restante do texto cifrado corresponde à key \n",
    "        key = cpht[16:]\n",
    "        #Utilização do Chacha20 para decifrar a mensagem \n",
    "        algorithm = algorithms.ChaCha20(self.X448_shared_key, nonce)\n",
    "        cipher = Cipher(algorithm, mode=None)\n",
    "        decryptor = cipher.decryptor()\n",
    "        d_key = decryptor.update(key)\n",
    "        #Se corresponder à chave partilhada :\n",
    "        if d_key == self.X448_shared_key:\n",
    "            print(\"\\nChaves acordadas com sucesso!\\n\")\n",
    "        else:\n",
    "            raiseExceptions(\"Erro na verificacao das chaves acordadas\")"
   ]
  },
  {
   "cell_type": "markdown",
   "metadata": {},
   "source": [
    "## “Tweakable Block Ciphers”\n",
    "Realizado todo o acordo e verificação de assinaturas e chaves, é necessário cifrar a mensagem que se quer enviar. Para isso utilizamos Tweakable Block Ciphers, em que, segundo o Capítulo 1, se deve gerar um tweak para cada bloco.\n",
    "Assim o **emitter** possui a seguinte função para cifrar:"
   ]
  },
  {
   "cell_type": "code",
   "execution_count": null,
   "metadata": {},
   "outputs": [],
   "source": [
    "#função que cria a mensagem de autenticação com o SHA256\n",
    "def create_authentication(self, message):\n",
    "        h = hmac.HMAC(self.X448_shared_key, hashes.SHA256(), backend=default_backend())\n",
    "        h.update(message)\n",
    "        self.mac = h.finalize()\n",
    "    \n",
    "#Função que gera os tweaks\n",
    "def generate_tweak(self, contador, tag):\n",
    "    #Um tweak é constituído por 8 bytes de nonce + 7 de contador + 1 de tag  = 16 bytes\n",
    "    #Tal como diz no capítulo 1\n",
    "    nonce = os.urandom(8) #Utiliza-se um nonce para dar aleatorieadade à primeira parte do tweak\n",
    "    return nonce + contador.to_bytes(7,byteorder = 'big') + tag.to_bytes(1,byteorder = 'big')\n",
    "\n",
    "\n",
    "\n",
    "def encodeAndSend(self):\n",
    "    #Guardar o tamanho da mensagem \n",
    "    size_msg = len(self.message)\n",
    "    # Add padding à msg\n",
    "    padder = padding.PKCS7(64).padder()\n",
    "    padded = padder.update(self.message) + padder.finalize()  \n",
    "    cipher_text = b''                \n",
    "    contador = 0\n",
    "    #Dividir a mensagem em blocos de 16\n",
    "    for i in range(0,len(padded),16):\n",
    "        p=padded[i:i+16]\n",
    "        #Se corresponder ao último bloco\n",
    "        if (i+16+1 > len(padded)):\n",
    "            #Ultimo bloco com tag 1 \n",
    "            tweak = self.generate_tweak(size_msg,1)\n",
    "            cipher_text += tweak \n",
    "            middle = b''\n",
    "            for index, byte in enumerate(p): \n",
    "                #aplicar a máscara XOR aos blocos . Esta mascara é compostas pela shared_key + tweak \n",
    "                mascara = self.X448_shared_key + tweak\n",
    "                middle += bytes([byte ^ mascara[0:16][0]])\n",
    "            cipher_text += middle \n",
    "        #Se não for o último bloco   \n",
    "        else:\n",
    "            #Blocos intermédios com tag 0\n",
    "            tweak = self.generate_tweak(contador,0)\n",
    "            #O bloco é cifrado com AES256, num modo de utilização de tweaks\n",
    "            cipher = Cipher(algorithms.AES(self.X448_shared_key), mode=modes.XTS(tweak))\n",
    "            encryptor = cipher.encryptor()\n",
    "            ct = encryptor.update(p)\n",
    "            cipher_text += tweak + ct \n",
    "        contador += 1\n",
    "    #a mensagem final cifrada é composta por tweak(16)+bloco(16)\n",
    "    print(\"size:\", len(cipher_text))\n",
    "\n",
    "    #Adicionalmente é enviada uma secção de autenticação para verificação antes de decifrar a mensagem\n",
    "    self.create_authentication(cipher_text)\n",
    "    final_ciphered = self.mac + cipher_text \n",
    "    return final_ciphered\n"
   ]
  },
  {
   "cell_type": "markdown",
   "metadata": {},
   "source": [
    "Inversamente ao que o emitter fez, o **receiver** tem de verificar a autenticidade da mensagem e decifrá-la da mesma forma:"
   ]
  },
  {
   "cell_type": "code",
   "execution_count": null,
   "metadata": {},
   "outputs": [],
   "source": [
    "    #verifica se a assinatura que vem no texto cifrado corresponde ao que ele espera \n",
    "    # de acordo com a chave acordada com os tweaks\n",
    "    def verify_authenticate_message(self, mac_signature, ciphertext):\n",
    "        h = hmac.HMAC(self.X448_shared_key, hashes.SHA256(), backend=default_backend())\n",
    "        h.update(ciphertext)\n",
    "        h.verify(mac_signature)\n",
    "\n",
    "    #recebe um tweak e decompõe, de forma a extrair a posição do bloco e o último byte\n",
    "    def degenerate_tweak(self, tweak):\n",
    "        #8 bytes nonce + 7 bytes do numero do bloco + 1 byte tag final\n",
    "        nonce = tweak[0:8]\n",
    "        contador = int.from_bytes(tweak[8:15], byteorder = 'big')\n",
    "        tag_final = tweak[15]\n",
    "        return nonce, contador, tag_final\n",
    "\n",
    "\n",
    "    def receiveAndDecode(self, ctt):\n",
    "        #primeiros 32 bytes são de autenticação\n",
    "        mac = ctt[0:32]\n",
    "        ct = ctt[32:]\n",
    "        try:\n",
    "            #Verificar se a mensagem mac enviada corresponde ao esperado\n",
    "            self.verify_authenticate_message(mac, ct)\n",
    "        except:\n",
    "            raiseExceptions(\"Autenticação com falhas!\")\n",
    "            return\n",
    "        #Se correponder, temos de a decifrar da mesma forma que foi cifrada:\n",
    "\n",
    "        plaintext = b''\n",
    "        f = b''\n",
    "        print(\"size of the received:\" , len(ct))\n",
    "\n",
    "        #no total: bloco + tweak corresponde a corresponde a 32 bytes.\n",
    "        tweak = ct[0:16]\n",
    "        block = ct[16:32]\n",
    "        i = 1\n",
    "        _, contador, tag_final = self.degenerate_tweak(tweak)\n",
    "        #Se não for o último bloco:\n",
    "        while(tag_final!=1):\n",
    "            #decifrar com o algoritmo AES256 e o respetivo tweak\n",
    "            cipher = Cipher(algorithms.AES(self.X448_shared_key), mode=modes.XTS(tweak))\n",
    "            decryptor = cipher.decryptor()\n",
    "            f = decryptor.update(block) \n",
    "            plaintext += f\n",
    "            #obtem o proximo tweak e o proximo bloco\n",
    "            tweak = ct[i*32:i*32 +16]  \n",
    "            block = ct[i*32 +16:(i+1)*32]\n",
    "            #desconstroi o proximo tweak\n",
    "            _, contador, tag_final = self.degenerate_tweak(tweak)\n",
    "            i+= 1\n",
    "        #Se for o ultimo bloco\n",
    "        if (tag_final == 1):\n",
    "            c =b''\n",
    "            for index, byte in enumerate(block): \n",
    "                #aplicar as máscaras XOR aos blocos para decifrar  \n",
    "                mascara = self.X448_shared_key + tweak\n",
    "                c += bytes([byte ^ mascara[0:16][0]])\n",
    "            plaintext += c       \n",
    "\n",
    "        #realiza o unpadding\n",
    "        unpadder = padding.PKCS7(64).unpadder()\n",
    "        unpadded_message = unpadder.update(plaintext) + unpadder.finalize()\n",
    "\n",
    "        #Uma vez que o último bloco possui o tamanho da mensagem cifrada, basta verificar \n",
    "        # se correspondem os valores e não houve perdas de blocos da mensagem \n",
    "        if (len(unpadded_message.decode(\"utf-8\")) == contador):\n",
    "            print(\"Tweak de autenticação validado!\")\n",
    "            return unpadded_message.decode(\"utf-8\")\n",
    "        else: raiseExceptions(\"Tweak de autenticação inválido\")\n",
    "         \n"
   ]
  },
  {
   "cell_type": "markdown",
   "metadata": {},
   "source": [
    "## Invocação da AEAD\n",
    "De forma a que a utilização destas funções faça sentido, utilizamos uma classe main que as invoca e interliga da seguinte forma:"
   ]
  },
  {
   "cell_type": "code",
   "execution_count": null,
   "metadata": {},
   "outputs": [],
   "source": [
    "assinatura = input(\"Introduz a assinatura a utilizar:\")\n",
    "mensagem = input(\"Introduz a mensagem a cifrar:\")\n",
    "emitter = emitter(mensagem, assinatura)\n",
    "receiver = receiver(assinatura)\n",
    "\n",
    "#Autenticacao dos agentes\n",
    "receiver.verify_Ed448_signature(emitter.signature, emitter.Ed448_public_key)\n",
    "\n",
    "#Setup do Key exchange (X448)\n",
    "emitter.generate_X448_shared_key(receiver.X448_public_key)\n",
    "receiver.generate_X448_shared_key(emitter.X448_public_key)\n",
    "\n",
    "# Verificar se as chaves foram bem acordadas\n",
    "key_ciphertext = emitter.key_to_confirm()\n",
    "receiver.confirm_key(key_ciphertext)\n",
    "\n",
    "\n",
    "#Envio da mensagem cifrada e a respetiva decifragem dela \n",
    "ciphertext = emitter.encodeAndSend()\n",
    "plaintext = receiver.receiveAndDecode(ciphertext)\n",
    "print(\"Mensagem Decifrada: \\n\" , plaintext)"
   ]
  }
 ],
 "metadata": {
  "interpreter": {
   "hash": "31f2aee4e71d21fbe5cf8b01ff0e069b9275f58929596ceb00d14d90e3e16cd6"
  },
  "kernelspec": {
   "display_name": "Python 3.8.2 64-bit",
   "language": "python",
   "name": "python3"
  },
  "language_info": {
   "name": "python",
   "version": "3.9.7"
  },
  "orig_nbformat": 4
 },
 "nbformat": 4,
 "nbformat_minor": 2
}
