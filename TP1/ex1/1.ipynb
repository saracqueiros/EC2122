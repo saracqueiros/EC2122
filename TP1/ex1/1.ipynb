{
 "cells": [
  {
   "cell_type": "markdown",
   "metadata": {},
   "source": [
    "# Trabalho Prático 1 - Grupo 15\n",
    "\n",
    "#### João Gonçalves - pg46535\n",
    "#### Sara Queirós - pg47661\n",
    "## Exercício 1 \n",
    "\n",
    "1. Use o “package” Cryptography para\n",
    "    1. Implementar uma AEAD com “Tweakable Block Ciphers” conforme está descrito na última secção do texto +Capítulo 1: Primitivas Criptográficas Básicas.  A cifra por blocos primitiva, usada para gerar a “tweakable block cipher”, é o AES-256 ou o ChaCha20.\n",
    "    2. Use esta construção para construir um canal privado de informação assíncrona com acordo de chaves feito com “X448 key exchange” e “Ed448 Signing&Verification” para autenticação  dos agentes. Deve incluir uma fase de confirmação da chave acordada.\n"
   ]
  },
  {
   "cell_type": "markdown",
   "metadata": {},
   "source": [
    "### Autenticação  dos agentes - Ed448 Signing&Verification\n",
    "Com o esquema de assinatura da curva elíptica de Edwards, é possível utilizar um algoritmo que instancie os parâmetros necessários à autenticação dos agentes envolvidos.\n",
    "Assim, o **receiver**:"
   ]
  },
  {
   "cell_type": "code",
   "execution_count": null,
   "metadata": {},
   "outputs": [],
   "source": [
    "#Inicialmente é gerada a chave privada segundo este algoritmo\n",
    "def generate_Ed448_private_key(self):\n",
    "    return Ed448PrivateKey.generate()\n",
    "\n",
    "#A partir da privada gera-se a pública\n",
    "def generate_Ed448_public_key(self):\n",
    "    return self.Ed448_private_key.public_key()\n",
    "\n",
    "#Com uma mensagem de assinatura definida pelo receiver, cria-se a codificação dessa com a chave privada, \n",
    "# gerando a assinatura\n",
    "def generate_Ed448_signature(self):\n",
    "    return self.Ed448_private_key.sign(self.signing_message)"
   ]
  }
 ],
 "metadata": {
  "interpreter": {
   "hash": "31f2aee4e71d21fbe5cf8b01ff0e069b9275f58929596ceb00d14d90e3e16cd6"
  },
  "kernelspec": {
   "display_name": "Python 3.8.2 64-bit",
   "language": "python",
   "name": "python3"
  },
  "language_info": {
   "name": "python",
   "version": "3.9.7"
  },
  "orig_nbformat": 4
 },
 "nbformat": 4,
 "nbformat_minor": 2
}
